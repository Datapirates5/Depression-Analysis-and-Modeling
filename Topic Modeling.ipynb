{
 "cells": [
  {
   "cell_type": "code",
   "execution_count": 25,
   "id": "7a88d944",
   "metadata": {},
   "outputs": [
    {
     "name": "stderr",
     "output_type": "stream",
     "text": [
      "C:\\Users\\peiyi\\anaconda3\\lib\\site-packages\\ipykernel\\ipkernel.py:287: DeprecationWarning: `should_run_async` will not call `transform_cell` automatically in the future. Please pass the result to `transformed_cell` argument and any exception that happen during thetransform in `preprocessing_exc_tuple` in IPython 7.17 and above.\n",
      "  and should_run_async(code)\n"
     ]
    }
   ],
   "source": [
    "import re\n",
    "import numpy as np\n",
    "import pandas as  pd\n",
    "from pprint import pprint# Gensim\n",
    "import gensim\n",
    "import gensim.corpora as corpora\n",
    "from gensim.utils import simple_preprocess\n",
    "from gensim.models import CoherenceModel# spaCy for preprocessing\n",
    "import spacy# Plotting tools\n",
    "import pyLDAvis\n",
    "import matplotlib.pyplot as plt\n",
    "%matplotlib inline"
   ]
  },
  {
   "cell_type": "code",
   "execution_count": 26,
   "id": "9b0090a0",
   "metadata": {},
   "outputs": [
    {
     "name": "stderr",
     "output_type": "stream",
     "text": [
      "C:\\Users\\peiyi\\anaconda3\\lib\\site-packages\\ipykernel\\ipkernel.py:287: DeprecationWarning: `should_run_async` will not call `transform_cell` automatically in the future. Please pass the result to `transformed_cell` argument and any exception that happen during thetransform in `preprocessing_exc_tuple` in IPython 7.17 and above.\n",
      "  and should_run_async(code)\n"
     ]
    }
   ],
   "source": [
    "# NLTK Stop words\n",
    "from nltk.corpus import stopwords\n",
    "stop_words = stopwords.words('english')\n",
    "stop_words.extend(['from', 'subject', 're', 'edu', 'use'])"
   ]
  },
  {
   "cell_type": "code",
   "execution_count": 27,
   "id": "2f2a01a4",
   "metadata": {},
   "outputs": [
    {
     "name": "stderr",
     "output_type": "stream",
     "text": [
      "C:\\Users\\peiyi\\anaconda3\\lib\\site-packages\\ipykernel\\ipkernel.py:287: DeprecationWarning: `should_run_async` will not call `transform_cell` automatically in the future. Please pass the result to `transformed_cell` argument and any exception that happen during thetransform in `preprocessing_exc_tuple` in IPython 7.17 and above.\n",
      "  and should_run_async(code)\n"
     ]
    },
    {
     "data": {
      "text/html": [
       "<div>\n",
       "<style scoped>\n",
       "    .dataframe tbody tr th:only-of-type {\n",
       "        vertical-align: middle;\n",
       "    }\n",
       "\n",
       "    .dataframe tbody tr th {\n",
       "        vertical-align: top;\n",
       "    }\n",
       "\n",
       "    .dataframe thead th {\n",
       "        text-align: right;\n",
       "    }\n",
       "</style>\n",
       "<table border=\"1\" class=\"dataframe\">\n",
       "  <thead>\n",
       "    <tr style=\"text-align: right;\">\n",
       "      <th></th>\n",
       "      <th>Unnamed: 0</th>\n",
       "      <th>Unnamed: 0.1</th>\n",
       "      <th>created_at</th>\n",
       "      <th>text</th>\n",
       "      <th>source</th>\n",
       "      <th>name</th>\n",
       "      <th>username</th>\n",
       "      <th>location</th>\n",
       "      <th>description</th>\n",
       "      <th>location2</th>\n",
       "      <th>coordinates</th>\n",
       "      <th>state</th>\n",
       "      <th>country</th>\n",
       "      <th>text_clean</th>\n",
       "      <th>sentiment</th>\n",
       "      <th>sentiment_1</th>\n",
       "    </tr>\n",
       "  </thead>\n",
       "  <tbody>\n",
       "    <tr>\n",
       "      <th>0</th>\n",
       "      <td>0</td>\n",
       "      <td>8</td>\n",
       "      <td>2022-04-07 23:59:23+00:00</td>\n",
       "      <td>Sigh and wonder how the decimal on my \"concurr...</td>\n",
       "      <td>TweetDeck</td>\n",
       "      <td>Fusionx</td>\n",
       "      <td>rofldrg</td>\n",
       "      <td>Seattle, WA</td>\n",
       "      <td>andrew copeland content podcast producer https...</td>\n",
       "      <td>Seattle, King County, Washington, United States</td>\n",
       "      <td>(47.6038321, -122.3300624, 0.0)</td>\n",
       "      <td>Seattle</td>\n",
       "      <td>United States</td>\n",
       "      <td>sigh and wonder how the decimal on my concurre...</td>\n",
       "      <td>neg</td>\n",
       "      <td>0</td>\n",
       "    </tr>\n",
       "    <tr>\n",
       "      <th>1</th>\n",
       "      <td>1</td>\n",
       "      <td>16</td>\n",
       "      <td>2022-04-07 23:58:50+00:00</td>\n",
       "      <td>🍔: Well, guess I should let y'all know I've be...</td>\n",
       "      <td>Twitter for Android</td>\n",
       "      <td>Aaron Schneider</td>\n",
       "      <td>aschneider_96</td>\n",
       "      <td>Kansas City, MO</td>\n",
       "      <td>civil engineer university nebraska alumni</td>\n",
       "      <td>Kansas City, Jackson County, Missouri, United ...</td>\n",
       "      <td>(39.100105, -94.5781416, 0.0)</td>\n",
       "      <td>Kansas City</td>\n",
       "      <td>United States</td>\n",
       "      <td>: well guess i should let y'all know i've been...</td>\n",
       "      <td>neg</td>\n",
       "      <td>0</td>\n",
       "    </tr>\n",
       "    <tr>\n",
       "      <th>2</th>\n",
       "      <td>2</td>\n",
       "      <td>19</td>\n",
       "      <td>2022-04-07 23:58:11+00:00</td>\n",
       "      <td>@SEGAbits McDonald's now with the depression meal</td>\n",
       "      <td>Twitter Web App</td>\n",
       "      <td>Dr. Ewa J. Antczak</td>\n",
       "      <td>Core_IdealMe</td>\n",
       "      <td>Mississauga, Ontario</td>\n",
       "      <td>psychologist founder idealme enrichment founda...</td>\n",
       "      <td>Mississauga, Peel Region, Golden Horseshoe, On...</td>\n",
       "      <td>(43.5896231, -79.6443879, 0.0)</td>\n",
       "      <td>Mississauga</td>\n",
       "      <td>Canada</td>\n",
       "      <td>segabits mcdonald's now with the depression meal</td>\n",
       "      <td>neg</td>\n",
       "      <td>0</td>\n",
       "    </tr>\n",
       "    <tr>\n",
       "      <th>3</th>\n",
       "      <td>3</td>\n",
       "      <td>21</td>\n",
       "      <td>2022-04-07 23:58:03+00:00</td>\n",
       "      <td>@Amer1can_Barbie There is a huge difference be...</td>\n",
       "      <td>Twitter for iPhone</td>\n",
       "      <td>Andrew, Cymro, 🏴󠁧󠁢󠁷󠁬󠁳󠁿🇪🇺🇺🇦🇵🇸, #NHS💙</td>\n",
       "      <td>_Annibyniaeth</td>\n",
       "      <td>Caerphilly, Wales</td>\n",
       "      <td>dm invite covid x husband father retired life ...</td>\n",
       "      <td>Cymru / Wales, United Kingdom</td>\n",
       "      <td>(52.2928116, -3.73893, 0.0)</td>\n",
       "      <td>Cymru / Wales</td>\n",
       "      <td>United Kingdom</td>\n",
       "      <td>amercanbarbie there is a huge difference betwe...</td>\n",
       "      <td>neg</td>\n",
       "      <td>0</td>\n",
       "    </tr>\n",
       "    <tr>\n",
       "      <th>4</th>\n",
       "      <td>4</td>\n",
       "      <td>34</td>\n",
       "      <td>2022-04-07 23:56:59+00:00</td>\n",
       "      <td>depression tucks me in at 7pm sharp every night</td>\n",
       "      <td>Twitter for iPhone</td>\n",
       "      <td>Bubbles</td>\n",
       "      <td>BigBankBubbles_</td>\n",
       "      <td>Atlanta, GA</td>\n",
       "      <td>go beach bring back seashell longliveni</td>\n",
       "      <td>Atlanta, Fulton County, Georgia, United States</td>\n",
       "      <td>(33.7489924, -84.3902644, 0.0)</td>\n",
       "      <td>Atlanta</td>\n",
       "      <td>United States</td>\n",
       "      <td>depression tucks me in at pm sharp every night</td>\n",
       "      <td>neg</td>\n",
       "      <td>0</td>\n",
       "    </tr>\n",
       "  </tbody>\n",
       "</table>\n",
       "</div>"
      ],
      "text/plain": [
       "   Unnamed: 0  Unnamed: 0.1                 created_at  \\\n",
       "0           0             8  2022-04-07 23:59:23+00:00   \n",
       "1           1            16  2022-04-07 23:58:50+00:00   \n",
       "2           2            19  2022-04-07 23:58:11+00:00   \n",
       "3           3            21  2022-04-07 23:58:03+00:00   \n",
       "4           4            34  2022-04-07 23:56:59+00:00   \n",
       "\n",
       "                                                text               source  \\\n",
       "0  Sigh and wonder how the decimal on my \"concurr...            TweetDeck   \n",
       "1  🍔: Well, guess I should let y'all know I've be...  Twitter for Android   \n",
       "2  @SEGAbits McDonald's now with the depression meal      Twitter Web App   \n",
       "3  @Amer1can_Barbie There is a huge difference be...   Twitter for iPhone   \n",
       "4    depression tucks me in at 7pm sharp every night   Twitter for iPhone   \n",
       "\n",
       "                                  name         username              location  \\\n",
       "0                              Fusionx          rofldrg           Seattle, WA   \n",
       "1                      Aaron Schneider    aschneider_96       Kansas City, MO   \n",
       "2                   Dr. Ewa J. Antczak     Core_IdealMe  Mississauga, Ontario   \n",
       "3  Andrew, Cymro, 🏴󠁧󠁢󠁷󠁬󠁳󠁿🇪🇺🇺🇦🇵🇸, #NHS💙    _Annibyniaeth     Caerphilly, Wales   \n",
       "4                              Bubbles  BigBankBubbles_           Atlanta, GA   \n",
       "\n",
       "                                         description  \\\n",
       "0  andrew copeland content podcast producer https...   \n",
       "1          civil engineer university nebraska alumni   \n",
       "2  psychologist founder idealme enrichment founda...   \n",
       "3  dm invite covid x husband father retired life ...   \n",
       "4            go beach bring back seashell longliveni   \n",
       "\n",
       "                                           location2  \\\n",
       "0    Seattle, King County, Washington, United States   \n",
       "1  Kansas City, Jackson County, Missouri, United ...   \n",
       "2  Mississauga, Peel Region, Golden Horseshoe, On...   \n",
       "3                      Cymru / Wales, United Kingdom   \n",
       "4     Atlanta, Fulton County, Georgia, United States   \n",
       "\n",
       "                       coordinates          state          country  \\\n",
       "0  (47.6038321, -122.3300624, 0.0)        Seattle    United States   \n",
       "1    (39.100105, -94.5781416, 0.0)    Kansas City    United States   \n",
       "2   (43.5896231, -79.6443879, 0.0)    Mississauga           Canada   \n",
       "3      (52.2928116, -3.73893, 0.0)  Cymru / Wales   United Kingdom   \n",
       "4   (33.7489924, -84.3902644, 0.0)        Atlanta    United States   \n",
       "\n",
       "                                          text_clean sentiment  sentiment_1  \n",
       "0  sigh and wonder how the decimal on my concurre...       neg            0  \n",
       "1  : well guess i should let y'all know i've been...       neg            0  \n",
       "2   segabits mcdonald's now with the depression meal       neg            0  \n",
       "3  amercanbarbie there is a huge difference betwe...       neg            0  \n",
       "4     depression tucks me in at pm sharp every night       neg            0  "
      ]
     },
     "execution_count": 27,
     "metadata": {},
     "output_type": "execute_result"
    }
   ],
   "source": [
    "# examine the first 5 rows of X (including the feature names)\n",
    "import pandas as pd\n",
    "# Splitting data into training/testing\n",
    "from sklearn.model_selection import train_test_split\n",
    "df =  pd.read_csv(\"df_data_Global_final.csv\")\n",
    "df.head()"
   ]
  },
  {
   "cell_type": "code",
   "execution_count": 28,
   "id": "ac88ae2c",
   "metadata": {},
   "outputs": [
    {
     "name": "stderr",
     "output_type": "stream",
     "text": [
      "C:\\Users\\peiyi\\anaconda3\\lib\\site-packages\\ipykernel\\ipkernel.py:287: DeprecationWarning: `should_run_async` will not call `transform_cell` automatically in the future. Please pass the result to `transformed_cell` argument and any exception that happen during thetransform in `preprocessing_exc_tuple` in IPython 7.17 and above.\n",
      "  and should_run_async(code)\n",
      "<>:4: DeprecationWarning: invalid escape sequence \\S\n",
      "<>:6: DeprecationWarning: invalid escape sequence \\s\n",
      "<>:4: DeprecationWarning: invalid escape sequence \\S\n",
      "<>:6: DeprecationWarning: invalid escape sequence \\s\n",
      "<ipython-input-28-4d3f5009bb6a>:4: DeprecationWarning: invalid escape sequence \\S\n",
      "  data = [re.sub('\\S*@\\S*\\s?', '', sent) for sent in data]\n",
      "<ipython-input-28-4d3f5009bb6a>:6: DeprecationWarning: invalid escape sequence \\s\n",
      "  data = [re.sub('\\s+', ' ', sent) for sent in data]\n"
     ]
    },
    {
     "name": "stdout",
     "output_type": "stream",
     "text": [
      "['sigh and wonder how the decimal on my concurrent viewers stat will change in '\n",
      " 'a way that continues to impede me from affiliate status which then usually '\n",
      " 'results in depression and losing interest in streaming for a few weeks ']\n"
     ]
    }
   ],
   "source": [
    "# Convert to list \n",
    "data = df['text_clean'].values.tolist()  \n",
    "# Remove Emails \n",
    "data = [re.sub('\\S*@\\S*\\s?', '', sent) for sent in data]  \n",
    "# Remove new line characters \n",
    "data = [re.sub('\\s+', ' ', sent) for sent in data]  \n",
    "# Remove distracting single quotes \n",
    "data = [re.sub(\"\\'\", \"\", sent) for sent in data]  \n",
    "pprint(data[:1])"
   ]
  },
  {
   "cell_type": "code",
   "execution_count": 29,
   "id": "312a8e80",
   "metadata": {},
   "outputs": [
    {
     "name": "stderr",
     "output_type": "stream",
     "text": [
      "C:\\Users\\peiyi\\anaconda3\\lib\\site-packages\\ipykernel\\ipkernel.py:287: DeprecationWarning: `should_run_async` will not call `transform_cell` automatically in the future. Please pass the result to `transformed_cell` argument and any exception that happen during thetransform in `preprocessing_exc_tuple` in IPython 7.17 and above.\n",
      "  and should_run_async(code)\n"
     ]
    },
    {
     "name": "stdout",
     "output_type": "stream",
     "text": [
      "[['sigh', 'and', 'wonder', 'how', 'the', 'decimal', 'on', 'my', 'concurrent', 'viewers', 'stat', 'will', 'change', 'in', 'way', 'that', 'continues', 'to', 'impede', 'me', 'from', 'affiliate', 'status', 'which', 'then', 'usually', 'results', 'in', 'depression', 'and', 'losing', 'interest', 'in', 'streaming', 'for', 'few', 'weeks']]\n"
     ]
    }
   ],
   "source": [
    "def sent_to_words(sentences):\n",
    "  for sentence in sentences:\n",
    "    yield(gensim.utils.simple_preprocess(str(sentence), deacc=True))            #deacc=True removes punctuations\n",
    "data_words = list(sent_to_words(data))\n",
    "print(data_words[:1])"
   ]
  },
  {
   "cell_type": "code",
   "execution_count": 30,
   "id": "0eefee67",
   "metadata": {},
   "outputs": [
    {
     "name": "stderr",
     "output_type": "stream",
     "text": [
      "C:\\Users\\peiyi\\anaconda3\\lib\\site-packages\\ipykernel\\ipkernel.py:287: DeprecationWarning: `should_run_async` will not call `transform_cell` automatically in the future. Please pass the result to `transformed_cell` argument and any exception that happen during thetransform in `preprocessing_exc_tuple` in IPython 7.17 and above.\n",
      "  and should_run_async(code)\n"
     ]
    },
    {
     "name": "stdout",
     "output_type": "stream",
     "text": [
      "['sigh', 'and', 'wonder', 'how', 'the', 'decimal', 'on', 'my', 'concurrent', 'viewers', 'stat', 'will', 'change', 'in', 'way', 'that', 'continues', 'to', 'impede', 'me', 'from', 'affiliate', 'status', 'which', 'then', 'usually', 'results', 'in', 'depression', 'and', 'losing', 'interest', 'in', 'streaming', 'for', 'few_weeks']\n"
     ]
    }
   ],
   "source": [
    "# Build the bigram and trigram models\n",
    "bigram = gensim.models.Phrases(data_words, min_count=5, threshold=100) # higher threshold fewer phrases.\n",
    "trigram = gensim.models.Phrases(bigram[data_words], threshold=100)\n",
    "# Faster way to get a sentence clubbed as a trigram/bigram\n",
    "bigram_mod = gensim.models.phrases.Phraser(bigram)\n",
    "trigram_mod = gensim.models.phrases.Phraser(trigram)\n",
    "# See trigram example\n",
    "print(trigram_mod[bigram_mod[data_words[0]]])"
   ]
  },
  {
   "cell_type": "code",
   "execution_count": 31,
   "id": "9bd5e904",
   "metadata": {},
   "outputs": [
    {
     "name": "stderr",
     "output_type": "stream",
     "text": [
      "C:\\Users\\peiyi\\anaconda3\\lib\\site-packages\\ipykernel\\ipkernel.py:287: DeprecationWarning: `should_run_async` will not call `transform_cell` automatically in the future. Please pass the result to `transformed_cell` argument and any exception that happen during thetransform in `preprocessing_exc_tuple` in IPython 7.17 and above.\n",
      "  and should_run_async(code)\n"
     ]
    }
   ],
   "source": [
    "# Define function for stopwords, bigrams, trigrams and lemmatization\n",
    "def remove_stopwords(texts):\n",
    "    return [[word for word in simple_preprocess(str(doc)) if word not in stop_words] for doc in texts]\n",
    "\n",
    "def make_bigrams(texts):\n",
    "    return [bigram_mod[doc] for doc in texts]\n",
    "\n",
    "def make_trigrams(texts):\n",
    "    return [trigram_mod[bigram_mod[doc]] for doc in texts]\n",
    "\n",
    "def lemmatization(texts, allowed_postags=['NOUN', 'ADJ', 'VERB', 'ADV']):\n",
    "    \"\"\"https://spacy.io/api/annotation\"\"\"\n",
    "    texts_out = []\n",
    "    for sent in texts:\n",
    "        doc = nlp(\" \".join(sent)) \n",
    "        texts_out.append([token.lemma_ for token in doc if token.pos_ in allowed_postags])\n",
    "    return texts_out"
   ]
  },
  {
   "cell_type": "code",
   "execution_count": 35,
   "id": "3dafa540",
   "metadata": {},
   "outputs": [
    {
     "name": "stderr",
     "output_type": "stream",
     "text": [
      "C:\\Users\\peiyi\\anaconda3\\lib\\site-packages\\ipykernel\\ipkernel.py:287: DeprecationWarning: `should_run_async` will not call `transform_cell` automatically in the future. Please pass the result to `transformed_cell` argument and any exception that happen during thetransform in `preprocessing_exc_tuple` in IPython 7.17 and above.\n",
      "  and should_run_async(code)\n"
     ]
    },
    {
     "name": "stdout",
     "output_type": "stream",
     "text": [
      "[['wonder', 'decimal', 'concurrent', 'viewer', 'stat', 'change', 'way', 'continue', 'affiliate', 'status', 'usually', 'result', 'depression', 'lose', 'interest', 'streaming', 'week']]\n"
     ]
    }
   ],
   "source": [
    "# Remove Stop Words\n",
    "data_words_nostops = remove_stopwords(data_words)\n",
    "\n",
    "# Form Bigrams\n",
    "data_words_bigrams = make_bigrams(data_words_nostops)\n",
    "\n",
    "# Initialize spacy 'en' model, keeping only tagger component (for efficiency)\n",
    "# python3 -m spacy download en\n",
    "nlp = spacy.load('en_core_web_sm', disable=['parser', 'ner'])\n",
    "\n",
    "# Do lemmatization keeping only noun, adj, vb, adv\n",
    "data_lemmatized = lemmatization(data_words_bigrams, allowed_postags=['NOUN', 'ADJ', 'VERB', 'ADV'])\n",
    "\n",
    "print(data_lemmatized[:1])"
   ]
  },
  {
   "cell_type": "code",
   "execution_count": 36,
   "id": "b726e991",
   "metadata": {},
   "outputs": [
    {
     "name": "stderr",
     "output_type": "stream",
     "text": [
      "C:\\Users\\peiyi\\anaconda3\\lib\\site-packages\\ipykernel\\ipkernel.py:287: DeprecationWarning: `should_run_async` will not call `transform_cell` automatically in the future. Please pass the result to `transformed_cell` argument and any exception that happen during thetransform in `preprocessing_exc_tuple` in IPython 7.17 and above.\n",
      "  and should_run_async(code)\n"
     ]
    },
    {
     "name": "stdout",
     "output_type": "stream",
     "text": [
      "[[(0, 1), (1, 1), (2, 1), (3, 1), (4, 1), (5, 1), (6, 1), (7, 1), (8, 1), (9, 1), (10, 1), (11, 1), (12, 1), (13, 1), (14, 1), (15, 1), (16, 1)]]\n"
     ]
    }
   ],
   "source": [
    "# Create Dictionary \n",
    "id2word = corpora.Dictionary(data_lemmatized)  \n",
    "# Create Corpus \n",
    "texts = data_lemmatized  \n",
    "# Term Document Frequency \n",
    "corpus = [id2word.doc2bow(text) for text in texts]  \n",
    "# View \n",
    "print(corpus[:1])"
   ]
  },
  {
   "cell_type": "code",
   "execution_count": 37,
   "id": "e6b1adfb",
   "metadata": {},
   "outputs": [
    {
     "name": "stderr",
     "output_type": "stream",
     "text": [
      "C:\\Users\\peiyi\\anaconda3\\lib\\site-packages\\ipykernel\\ipkernel.py:287: DeprecationWarning: `should_run_async` will not call `transform_cell` automatically in the future. Please pass the result to `transformed_cell` argument and any exception that happen during thetransform in `preprocessing_exc_tuple` in IPython 7.17 and above.\n",
      "  and should_run_async(code)\n"
     ]
    },
    {
     "data": {
      "text/plain": [
       "[[('affiliate', 1),\n",
       "  ('change', 1),\n",
       "  ('concurrent', 1),\n",
       "  ('continue', 1),\n",
       "  ('decimal', 1),\n",
       "  ('depression', 1),\n",
       "  ('interest', 1),\n",
       "  ('lose', 1),\n",
       "  ('result', 1),\n",
       "  ('stat', 1),\n",
       "  ('status', 1),\n",
       "  ('streaming', 1),\n",
       "  ('usually', 1),\n",
       "  ('viewer', 1),\n",
       "  ('way', 1),\n",
       "  ('week', 1),\n",
       "  ('wonder', 1)]]"
      ]
     },
     "execution_count": 37,
     "metadata": {},
     "output_type": "execute_result"
    }
   ],
   "source": [
    "[[(id2word[id], freq) for id, freq in cp] for cp in corpus[:1]]"
   ]
  },
  {
   "cell_type": "code",
   "execution_count": 47,
   "id": "1cc94037",
   "metadata": {},
   "outputs": [
    {
     "name": "stderr",
     "output_type": "stream",
     "text": [
      "C:\\Users\\peiyi\\anaconda3\\lib\\site-packages\\ipykernel\\ipkernel.py:287: DeprecationWarning: `should_run_async` will not call `transform_cell` automatically in the future. Please pass the result to `transformed_cell` argument and any exception that happen during thetransform in `preprocessing_exc_tuple` in IPython 7.17 and above.\n",
      "  and should_run_async(code)\n"
     ]
    }
   ],
   "source": [
    "lda_model = gensim.models.ldamodel.LdaModel(corpus=corpus,\n",
    "                                           id2word=id2word,\n",
    "                                           num_topics=3, \n",
    "                                           random_state=100,\n",
    "                                           update_every=1,\n",
    "                                           chunksize=100,\n",
    "                                           passes=10,\n",
    "                                           alpha='auto',\n",
    "                                           per_word_topics=True)"
   ]
  },
  {
   "cell_type": "code",
   "execution_count": 48,
   "id": "8c7871cb",
   "metadata": {},
   "outputs": [
    {
     "name": "stdout",
     "output_type": "stream",
     "text": [
      "[(0,\n",
      "  '0.027*\"say\" + 0.019*\"good\" + 0.019*\"would\" + 0.017*\"amp\" + 0.015*\"take\" + '\n",
      "  '0.014*\"s\" + 0.012*\"work\" + 0.012*\"lose\" + 0.011*\"never\" + 0.011*\"love\"'),\n",
      " (1,\n",
      "  '0.169*\"sad\" + 0.042*\"be\" + 0.017*\"make\" + 0.017*\"go\" + 0.016*\"see\" + '\n",
      "  '0.015*\"really\" + 0.014*\"get\" + 0.012*\"know\" + 0.012*\"feel\" + 0.010*\"life\"'),\n",
      " (2,\n",
      "  '0.027*\"people\" + 0.022*\"stress\" + 0.022*\"time\" + 0.020*\"think\" + '\n",
      "  '0.016*\"day\" + 0.013*\"man\" + 0.013*\"well\" + 0.012*\"still\" + 0.010*\"try\" + '\n",
      "  '0.008*\"hear\"')]\n"
     ]
    },
    {
     "name": "stderr",
     "output_type": "stream",
     "text": [
      "C:\\Users\\peiyi\\anaconda3\\lib\\site-packages\\ipykernel\\ipkernel.py:287: DeprecationWarning: `should_run_async` will not call `transform_cell` automatically in the future. Please pass the result to `transformed_cell` argument and any exception that happen during thetransform in `preprocessing_exc_tuple` in IPython 7.17 and above.\n",
      "  and should_run_async(code)\n"
     ]
    }
   ],
   "source": [
    "# Print the keyword of topics\n",
    "pprint(lda_model.print_topics())\n",
    "doc_lda = lda_model[corpus]"
   ]
  },
  {
   "cell_type": "code",
   "execution_count": 53,
   "id": "09811c5e",
   "metadata": {},
   "outputs": [
    {
     "name": "stderr",
     "output_type": "stream",
     "text": [
      "C:\\Users\\peiyi\\anaconda3\\lib\\site-packages\\ipykernel\\ipkernel.py:287: DeprecationWarning: `should_run_async` will not call `transform_cell` automatically in the future. Please pass the result to `transformed_cell` argument and any exception that happen during thetransform in `preprocessing_exc_tuple` in IPython 7.17 and above.\n",
      "  and should_run_async(code)\n"
     ]
    },
    {
     "data": {
      "text/html": [
       "\n",
       "<link rel=\"stylesheet\" type=\"text/css\" href=\"https://cdn.jsdelivr.net/gh/bmabey/pyLDAvis@3.3.1/pyLDAvis/js/ldavis.v1.0.0.css\">\n",
       "\n",
       "\n",
       "<div id=\"ldavis_el3958023134625911524123455505\"></div>\n",
       "<script type=\"text/javascript\">\n",
       "\n",
       "var ldavis_el3958023134625911524123455505_data = {\"mdsDat\": {\"x\": [-0.30753192667714235, 0.16275819783488268, 0.14477372884225953], \"y\": [-0.00900312050864953, -0.226426608706393, 0.23542972921504265], \"topics\": [1, 2, 3], \"cluster\": [1, 1, 1], \"Freq\": [47.79277803561918, 29.34357211573223, 22.863649848648592]}, \"tinfo\": {\"Term\": [\"sad\", \"be\", \"people\", \"say\", \"stress\", \"time\", \"think\", \"good\", \"would\", \"go\", \"amp\", \"day\", \"see\", \"really\", \"take\", \"get\", \"man\", \"well\", \"still\", \"know\", \"feel\", \"lose\", \"make\", \"work\", \"many\", \"actually\", \"try\", \"way\", \"s\", \"never\", \"go\", \"be\", \"see\", \"really\", \"get\", \"know\", \"feel\", \"can\", \"life\", \"thing\", \"sad\", \"need\", \"look\", \"have\", \"much\", \"year\", \"come\", \"happy\", \"bad\", \"happen\", \"today\", \"will\", \"also\", \"little\", \"watch\", \"true\", \"may\", \"end\", \"let\", \"could\", \"kid\", \"even\", \"make\", \"want\", \"always\", \"give\", \"s\", \"people\", \"time\", \"day\", \"man\", \"try\", \"live\", \"hear\", \"play\", \"die\", \"call\", \"world\", \"woman\", \"hard\", \"miss\", \"child\", \"country\", \"stop\", \"remember\", \"state\", \"stress\", \"become\", \"job\", \"read\", \"less\", \"lie\", \"team\", \"song\", \"listen\", \"bring\", \"face\", \"still\", \"clear\", \"party\", \"win\", \"funny\", \"think\", \"well\", \"help\", \"lot\", \"back\", \"use\", \"say\", \"good\", \"would\", \"amp\", \"take\", \"way\", \"lose\", \"many\", \"right\", \"actually\", \"friend\", \"show\", \"d\", \"person\", \"hope\", \"real\", \"part\", \"story\", \"point\", \"hate\", \"seem\", \"fuck\", \"shit\", \"cause\", \"week\", \"break\", \"music\", \"buy\", \"move\", \"heart\", \"ask\", \"never\", \"work\", \"family\", \"leave\", \"love\", \"s\", \"news\"], \"Freq\": [20535.0, 5072.0, 2049.0, 1555.0, 1655.0, 1621.0, 1539.0, 1114.0, 1081.0, 2052.0, 980.0, 1171.0, 1912.0, 1810.0, 889.0, 1738.0, 990.0, 1042.0, 903.0, 1471.0, 1448.0, 680.0, 2324.0, 793.0, 602.0, 595.0, 715.0, 591.0, 1877.0, 749.0, 2051.2833994612083, 5070.324915345676, 1911.4922834792678, 1809.45446387555, 1737.813885177194, 1470.7206757656454, 1447.1268626714618, 1133.5478879976204, 1162.398745942353, 1039.2583002737938, 20515.763363139835, 875.4231218612541, 920.1872655574649, 851.276511135838, 721.8028867428314, 752.0368435677165, 651.925855432748, 679.3681190649147, 647.6545773123228, 664.9332284542975, 584.6844286124981, 581.3423740187557, 523.6054744325609, 591.8743105225423, 559.8623022411676, 601.1228636151699, 500.26740885373886, 531.8374396501033, 418.7618258352647, 534.3657366977359, 441.70604363982073, 1009.7149863847217, 2121.4468294620656, 1028.9950856276414, 741.6637719361216, 608.6368207994428, 1031.6923890639146, 2048.6310489861075, 1620.763074205521, 1170.629477434251, 989.9144984608228, 715.0679221961855, 589.874516028997, 620.877676238128, 551.7118354679124, 544.6067199290968, 463.8520626038034, 438.9267618358019, 394.8129113025449, 385.2764154446117, 440.8600459149424, 356.01420925589963, 397.0627451256474, 334.8284045346743, 364.35039022755217, 319.4304509891487, 1650.727603397595, 280.4472108774794, 262.51999009201097, 249.69861231959175, 258.04275921337256, 281.3954686819195, 264.62419364004785, 413.7866942415124, 258.69312979446994, 246.31097348821956, 248.85742485712032, 897.8715033374124, 418.48999729443756, 322.04132544879866, 271.1446661517458, 267.46748866170685, 1462.2537466998544, 986.4638279661473, 588.6117260503916, 463.92827804215733, 425.60763568026704, 355.9647092245086, 1554.402499695474, 1113.4244530914912, 1080.444432169643, 979.840293121371, 888.8398007757138, 590.6499396849026, 679.4568522906142, 601.227757827901, 533.0741904522296, 594.7068099996804, 451.03170077487124, 455.4577544736974, 428.409982818912, 386.9929791385779, 379.9264280858589, 378.189225250737, 376.26863685093775, 322.81938807133054, 321.7452029251148, 312.17101825454336, 304.6798290638106, 302.6272713594866, 279.82219494283527, 255.8819494129975, 268.79076450151575, 281.0056633578626, 297.60837218974865, 290.02849875904775, 252.867417061684, 236.59464504310247, 238.00372703193628, 662.4049220060288, 683.5814825686928, 420.05872996599425, 524.9429948561277, 621.915525119298, 815.7346063218696, 308.1283775320587], \"Total\": [20535.0, 5072.0, 2049.0, 1555.0, 1655.0, 1621.0, 1539.0, 1114.0, 1081.0, 2052.0, 980.0, 1171.0, 1912.0, 1810.0, 889.0, 1738.0, 990.0, 1042.0, 903.0, 1471.0, 1448.0, 680.0, 2324.0, 793.0, 602.0, 595.0, 715.0, 591.0, 1877.0, 749.0, 2052.18717674279, 5072.773077989817, 1912.5061723383067, 1810.4639395009349, 1738.8825681544413, 1471.6525663511966, 1448.0591622415798, 1134.4392496995524, 1163.4213938472724, 1040.1842164720572, 20535.611904149988, 876.3468570293276, 921.1778677034388, 852.1940624027378, 722.6643001509091, 752.9556437568181, 652.8356158039269, 680.3543065057296, 648.595916136446, 665.9803122992702, 585.6122223061501, 582.3084120680662, 524.4925750850816, 592.8900939221328, 560.8487015803703, 602.2166277069671, 501.1849079795434, 532.8282260025334, 419.6216929146683, 535.5088505228842, 442.6834401324765, 1029.0750235964583, 2324.9354785272712, 1087.3562750632093, 774.9871374138149, 625.8952481801612, 1877.5974123577566, 2049.485105737236, 1621.6357400848367, 1171.477956488848, 990.8334652348633, 715.9132782966549, 590.7302808943537, 621.8626358193682, 552.6181182730464, 545.5111670974786, 464.7439035669288, 439.83225035120876, 395.66628940835193, 386.15466581015016, 441.8937111492568, 356.8555244651591, 398.03949632401356, 335.68416026278976, 365.32429692226464, 320.37449813103154, 1655.731894711465, 281.32558658767033, 263.35199483482313, 250.52279275222236, 258.8952034158731, 282.35497181767295, 265.52924794052626, 415.2082338215025, 259.6072120173784, 247.18839916052983, 249.74550453004105, 903.6130454274413, 420.0293442151614, 323.4145181094199, 272.1304069269138, 268.501742210022, 1539.9392778340966, 1042.7969627686582, 631.0060178179646, 555.221776466043, 534.6721220202045, 427.8663617397617, 1555.3684419472954, 1114.3211073201498, 1081.3630849460262, 980.7204551663992, 889.7289490864654, 591.524208683793, 680.4724103181676, 602.1788734342565, 533.988185318683, 595.7482454637037, 451.95273924864875, 456.3913613433795, 429.37092990643345, 387.9286541637188, 380.8698913027886, 379.13145567346, 377.2134416056684, 323.7970959709665, 322.7205615029131, 313.15002774137423, 305.636073044759, 303.58554769585425, 280.7292058097267, 256.7130074796638, 269.67717080376417, 281.9332358816059, 298.5923199396213, 291.07387919712806, 253.7800915127424, 237.48005193040552, 238.9413671017445, 749.8378898706958, 793.5391008361212, 476.41335879287203, 665.8718115787175, 962.0309793922943, 1877.5974123577566, 339.5802790519603], \"Category\": [\"Default\", \"Default\", \"Default\", \"Default\", \"Default\", \"Default\", \"Default\", \"Default\", \"Default\", \"Default\", \"Default\", \"Default\", \"Default\", \"Default\", \"Default\", \"Default\", \"Default\", \"Default\", \"Default\", \"Default\", \"Default\", \"Default\", \"Default\", \"Default\", \"Default\", \"Default\", \"Default\", \"Default\", \"Default\", \"Default\", \"Topic1\", \"Topic1\", \"Topic1\", \"Topic1\", \"Topic1\", \"Topic1\", \"Topic1\", \"Topic1\", \"Topic1\", \"Topic1\", \"Topic1\", \"Topic1\", \"Topic1\", \"Topic1\", \"Topic1\", \"Topic1\", \"Topic1\", \"Topic1\", \"Topic1\", \"Topic1\", \"Topic1\", \"Topic1\", \"Topic1\", \"Topic1\", \"Topic1\", \"Topic1\", \"Topic1\", \"Topic1\", \"Topic1\", \"Topic1\", \"Topic1\", \"Topic1\", \"Topic1\", \"Topic1\", \"Topic1\", \"Topic1\", \"Topic1\", \"Topic2\", \"Topic2\", \"Topic2\", \"Topic2\", \"Topic2\", \"Topic2\", \"Topic2\", \"Topic2\", \"Topic2\", \"Topic2\", \"Topic2\", \"Topic2\", \"Topic2\", \"Topic2\", \"Topic2\", \"Topic2\", \"Topic2\", \"Topic2\", \"Topic2\", \"Topic2\", \"Topic2\", \"Topic2\", \"Topic2\", \"Topic2\", \"Topic2\", \"Topic2\", \"Topic2\", \"Topic2\", \"Topic2\", \"Topic2\", \"Topic2\", \"Topic2\", \"Topic2\", \"Topic2\", \"Topic2\", \"Topic2\", \"Topic2\", \"Topic2\", \"Topic2\", \"Topic2\", \"Topic2\", \"Topic3\", \"Topic3\", \"Topic3\", \"Topic3\", \"Topic3\", \"Topic3\", \"Topic3\", \"Topic3\", \"Topic3\", \"Topic3\", \"Topic3\", \"Topic3\", \"Topic3\", \"Topic3\", \"Topic3\", \"Topic3\", \"Topic3\", \"Topic3\", \"Topic3\", \"Topic3\", \"Topic3\", \"Topic3\", \"Topic3\", \"Topic3\", \"Topic3\", \"Topic3\", \"Topic3\", \"Topic3\", \"Topic3\", \"Topic3\", \"Topic3\", \"Topic3\", \"Topic3\", \"Topic3\", \"Topic3\", \"Topic3\", \"Topic3\", \"Topic3\"], \"logprob\": [30.0, 29.0, 28.0, 27.0, 26.0, 25.0, 24.0, 23.0, 22.0, 21.0, 20.0, 19.0, 18.0, 17.0, 16.0, 15.0, 14.0, 13.0, 12.0, 11.0, 10.0, 9.0, 8.0, 7.0, 6.0, 5.0, 4.0, 3.0, 2.0, 1.0, -4.0828, -3.1779, -4.1534, -4.2083, -4.2487, -4.4156, -4.4317, -4.676, -4.6508, -4.7628, -1.7801, -4.9344, -4.8845, -4.9623, -5.1273, -5.0863, -5.2291, -5.1879, -5.2357, -5.2094, -5.338, -5.3437, -5.4483, -5.3258, -5.3814, -5.3103, -5.4939, -5.4327, -5.6718, -5.428, -5.6184, -4.7916, -4.0492, -4.7727, -5.1002, -5.2978, -4.7701, -3.5963, -3.8306, -4.156, -4.3236, -4.6489, -4.8413, -4.7901, -4.9082, -4.9212, -5.0817, -5.1369, -5.2428, -5.2673, -5.1325, -5.3463, -5.2372, -5.4076, -5.3231, -5.4547, -3.8123, -5.5849, -5.6509, -5.701, -5.6681, -5.5815, -5.6429, -5.1959, -5.6656, -5.7147, -5.7044, -4.4212, -5.1846, -5.4466, -5.6186, -5.6323, -3.9335, -4.3271, -4.8435, -5.0815, -5.1677, -5.3464, -3.6229, -3.9565, -3.9866, -4.0843, -4.1818, -4.5905, -4.4504, -4.5728, -4.6931, -4.5837, -4.8602, -4.8504, -4.9117, -5.0133, -5.0318, -5.0363, -5.0414, -5.1946, -5.198, -5.2282, -5.2525, -5.2592, -5.3376, -5.427, -5.3778, -5.3334, -5.276, -5.3018, -5.4389, -5.5054, -5.4994, -4.4759, -4.4444, -4.9313, -4.7084, -4.5389, -4.2676, -5.2412], \"loglift\": [30.0, 29.0, 28.0, 27.0, 26.0, 25.0, 24.0, 23.0, 22.0, 21.0, 20.0, 19.0, 18.0, 17.0, 16.0, 15.0, 14.0, 13.0, 12.0, 11.0, 10.0, 9.0, 8.0, 7.0, 6.0, 5.0, 4.0, 3.0, 2.0, 1.0, 0.7379, 0.7378, 0.7378, 0.7377, 0.7377, 0.7377, 0.7377, 0.7375, 0.7374, 0.7374, 0.7373, 0.7372, 0.7372, 0.7372, 0.7371, 0.7371, 0.7369, 0.7368, 0.7368, 0.7367, 0.7367, 0.7366, 0.7366, 0.7366, 0.7365, 0.7365, 0.7365, 0.7364, 0.7362, 0.7362, 0.7361, 0.7193, 0.6467, 0.6831, 0.6943, 0.7103, 0.1395, 1.2257, 1.2256, 1.2254, 1.2252, 1.2249, 1.2246, 1.2245, 1.2245, 1.2244, 1.2242, 1.224, 1.2239, 1.2238, 1.2238, 1.2237, 1.2236, 1.2235, 1.2234, 1.2231, 1.2231, 1.223, 1.2229, 1.2228, 1.2228, 1.2227, 1.2227, 1.2227, 1.2226, 1.2225, 1.2225, 1.2197, 1.2224, 1.2218, 1.2225, 1.2222, 1.1743, 1.1706, 1.1565, 1.0465, 0.998, 1.0421, 1.475, 1.4748, 1.4748, 1.4747, 1.4746, 1.4741, 1.4741, 1.474, 1.4739, 1.4739, 1.4736, 1.4736, 1.4734, 1.4732, 1.4731, 1.4731, 1.4731, 1.4726, 1.4726, 1.4725, 1.4725, 1.4725, 1.4724, 1.4724, 1.4723, 1.4723, 1.4723, 1.472, 1.472, 1.4719, 1.4717, 1.3516, 1.3265, 1.3497, 1.2378, 1.0394, 0.642, 1.3784]}, \"token.table\": {\"Topic\": [2, 3, 1, 1, 2, 3, 3, 3, 1, 2, 1, 1, 2, 2, 3, 2, 1, 2, 3, 2, 1, 3, 2, 1, 2, 3, 1, 1, 3, 2, 2, 3, 2, 2, 1, 2, 1, 2, 2, 2, 3, 1, 3, 2, 3, 1, 2, 3, 1, 2, 1, 2, 1, 3, 1, 2, 1, 2, 2, 2, 3, 1, 2, 3, 1, 2, 3, 2, 1, 2, 1, 2, 3, 2, 1, 2, 1, 2, 2, 1, 2, 2, 1, 2, 2, 3, 2, 3, 1, 3, 1, 2, 2, 2, 3, 1, 1, 2, 3, 3, 1, 2, 3, 1, 2, 3, 1, 2, 3, 3, 1, 2, 3, 2, 3, 2, 2, 3, 2, 3, 1, 2, 2, 3, 1, 2, 3, 1, 2, 3, 2, 3, 1, 2, 2, 3, 3, 3, 1, 2, 3, 2, 1, 2, 2, 2, 3, 1, 2, 3, 3, 2, 1, 1, 2, 2, 1, 1, 2, 3, 2, 1, 2, 1, 2, 1, 2, 3, 3, 1, 2, 1, 2, 2, 2, 1, 2, 3, 2, 3, 1], \"Freq\": [0.0016785613849716753, 0.9987440240581468, 0.9990608540359189, 0.9574352452817536, 0.03483928790108807, 0.007742063978019571, 0.9992653817276841, 0.9960602589950711, 0.20386325658452986, 0.7967499752753185, 0.9990812212633163, 0.9994533408163183, 0.0003942616729058455, 0.9952880695860302, 0.996689869221386, 0.9951923344114622, 0.0034355538970322922, 0.0034355538970322922, 0.9963106301393647, 0.9983993258196195, 0.999612804564309, 0.9972225502452566, 0.9976026027159274, 0.002380786042147919, 0.9951685656178301, 0.002380786042147919, 0.998720021114507, 0.9971823985328889, 0.0018673827687881814, 0.997388459352367, 0.0023289885978492195, 0.996807119879466, 0.9995920055633992, 0.9990629575922371, 0.9984456041138304, 0.0018767774513417865, 0.9814639135543354, 0.01846318253221027, 0.9970149431460482, 0.11754498266356728, 0.8815873699767546, 0.9992685642484799, 0.9978919493878218, 0.003293964444584975, 0.9980712267092474, 0.003724370619605888, 0.9944069554347722, 0.003724370619605888, 0.9994924509736284, 0.0005750819625855169, 0.9730062686539235, 0.02716109452728522, 0.9994215065973298, 0.9988144285238149, 0.9985280160972242, 0.0015015458888680063, 0.9980094099606935, 0.0014698224005312128, 0.9970098359222782, 0.0031933575328496684, 0.9963275502490965, 0.9985988374533247, 0.9986128193435653, 0.9979785589294624, 0.06656037947979816, 0.9334300836571694, 0.9977160407723145, 0.9986634054735606, 0.9984561425377195, 0.002258950548727872, 0.9995565758072814, 0.21025067823200622, 0.7884400433700233, 0.9965422170667446, 0.9985184442912137, 0.9952011759915178, 0.9987782639593965, 0.0008595337899822689, 0.9976610356366458, 0.9984987201991442, 0.0016866532435796354, 0.9987637659385803, 0.9987213460671007, 0.0010855666805077181, 0.0014695672959502228, 0.9978361939502013, 0.8357020917899425, 0.16389847058811371, 0.3534189722401401, 0.6465488256863738, 0.9122833814483083, 0.08731425102970608, 0.9991588240969781, 0.001660636140050795, 0.9980423201705279, 0.9976357867911063, 0.002262987625235141, 0.9979775427286972, 0.002262987625235141, 0.9969261122569056, 0.9990807624636081, 0.0033490479601156896, 0.9980162921144755, 0.9984631005194756, 0.11602507845396094, 0.8828574935232429, 0.0029448117623078656, 0.09128916463154384, 0.9070020227908226, 0.9967831432504017, 0.0030920071425540427, 0.9956262999024017, 0.0030920071425540427, 0.9997633036044623, 0.9976061212448439, 0.9988814730233998, 0.0030986559869101288, 0.9977672277850614, 0.9979131928616993, 0.9970156639431298, 0.9991914009061466, 0.0005523446107828339, 0.9963750100022873, 0.9981494247516108, 0.5496385930272911, 0.015977866076374744, 0.43459795727739303, 0.9990449807757603, 0.0005356548444401133, 0.00043826305454191085, 0.0006429344797223844, 0.9991201814885853, 0.9992124614497504, 0.0005228741294870489, 0.003271865097722135, 0.9979188548052512, 0.9974024583312471, 0.9969513854528621, 0.002408430080483179, 0.9970900533200362, 0.002408430080483179, 0.9957097142904633, 0.005533341982280502, 0.9937882200175783, 0.9979618929226385, 0.003088353825414375, 0.9975382856088433, 0.0024158500617016, 0.9971421129673355, 0.0006039625154254, 0.9991807065655065, 0.9980068186663761, 0.9988615319735636, 0.05000197157663219, 0.9493880837017696, 0.9996079636942367, 0.998954560231446, 0.9979797507225937, 0.0016605320311524022, 0.0016605320311524022, 0.998724317142395, 0.16593966328950124, 0.8320354948036964, 0.9463319645993518, 0.05334038284427833, 0.998486754844972, 0.0017830120622231642, 0.9991138001182414, 0.997488957623866, 0.05370172909913189, 0.9455340159240007, 0.9977530599920077, 0.0017173030292461406, 0.9958460837225831, 0.9983160319031772, 0.13609915363490546, 0.002520354696942694, 0.8619613063544013, 0.9981078005295333, 0.9987394752373165, 0.9987308100221549], \"Term\": [\"actually\", \"actually\", \"also\", \"always\", \"always\", \"always\", \"amp\", \"ask\", \"back\", \"back\", \"bad\", \"be\", \"be\", \"become\", \"break\", \"bring\", \"buy\", \"buy\", \"buy\", \"call\", \"can\", \"cause\", \"child\", \"clear\", \"clear\", \"clear\", \"come\", \"could\", \"could\", \"country\", \"d\", \"d\", \"day\", \"die\", \"end\", \"end\", \"even\", \"even\", \"face\", \"family\", \"family\", \"feel\", \"friend\", \"fuck\", \"fuck\", \"funny\", \"funny\", \"funny\", \"get\", \"get\", \"give\", \"give\", \"go\", \"good\", \"happen\", \"happen\", \"happy\", \"happy\", \"hard\", \"hate\", \"hate\", \"have\", \"hear\", \"heart\", \"help\", \"help\", \"hope\", \"job\", \"kid\", \"kid\", \"know\", \"leave\", \"leave\", \"less\", \"let\", \"lie\", \"life\", \"life\", \"listen\", \"little\", \"little\", \"live\", \"look\", \"look\", \"lose\", \"lose\", \"lot\", \"lot\", \"love\", \"love\", \"make\", \"make\", \"man\", \"many\", \"many\", \"may\", \"miss\", \"miss\", \"miss\", \"move\", \"much\", \"music\", \"music\", \"need\", \"never\", \"never\", \"news\", \"news\", \"news\", \"part\", \"party\", \"party\", \"party\", \"people\", \"person\", \"play\", \"point\", \"point\", \"read\", \"real\", \"really\", \"really\", \"remember\", \"right\", \"s\", \"s\", \"s\", \"sad\", \"sad\", \"sad\", \"say\", \"say\", \"see\", \"see\", \"seem\", \"seem\", \"shit\", \"show\", \"song\", \"song\", \"song\", \"state\", \"still\", \"still\", \"stop\", \"story\", \"story\", \"stress\", \"stress\", \"stress\", \"take\", \"team\", \"thing\", \"think\", \"think\", \"time\", \"today\", \"true\", \"true\", \"true\", \"try\", \"use\", \"use\", \"want\", \"want\", \"watch\", \"watch\", \"way\", \"week\", \"well\", \"well\", \"will\", \"will\", \"win\", \"woman\", \"work\", \"work\", \"work\", \"world\", \"would\", \"year\"]}, \"R\": 30, \"lambda.step\": 0.01, \"plot.opts\": {\"xlab\": \"PC1\", \"ylab\": \"PC2\"}, \"topic.order\": [2, 3, 1]};\n",
       "\n",
       "function LDAvis_load_lib(url, callback){\n",
       "  var s = document.createElement('script');\n",
       "  s.src = url;\n",
       "  s.async = true;\n",
       "  s.onreadystatechange = s.onload = callback;\n",
       "  s.onerror = function(){console.warn(\"failed to load library \" + url);};\n",
       "  document.getElementsByTagName(\"head\")[0].appendChild(s);\n",
       "}\n",
       "\n",
       "if(typeof(LDAvis) !== \"undefined\"){\n",
       "   // already loaded: just create the visualization\n",
       "   !function(LDAvis){\n",
       "       new LDAvis(\"#\" + \"ldavis_el3958023134625911524123455505\", ldavis_el3958023134625911524123455505_data);\n",
       "   }(LDAvis);\n",
       "}else if(typeof define === \"function\" && define.amd){\n",
       "   // require.js is available: use it to load d3/LDAvis\n",
       "   require.config({paths: {d3: \"https://d3js.org/d3.v5\"}});\n",
       "   require([\"d3\"], function(d3){\n",
       "      window.d3 = d3;\n",
       "      LDAvis_load_lib(\"https://cdn.jsdelivr.net/gh/bmabey/pyLDAvis@3.3.1/pyLDAvis/js/ldavis.v3.0.0.js\", function(){\n",
       "        new LDAvis(\"#\" + \"ldavis_el3958023134625911524123455505\", ldavis_el3958023134625911524123455505_data);\n",
       "      });\n",
       "    });\n",
       "}else{\n",
       "    // require.js not available: dynamically load d3 & LDAvis\n",
       "    LDAvis_load_lib(\"https://d3js.org/d3.v5.js\", function(){\n",
       "         LDAvis_load_lib(\"https://cdn.jsdelivr.net/gh/bmabey/pyLDAvis@3.3.1/pyLDAvis/js/ldavis.v3.0.0.js\", function(){\n",
       "                 new LDAvis(\"#\" + \"ldavis_el3958023134625911524123455505\", ldavis_el3958023134625911524123455505_data);\n",
       "            })\n",
       "         });\n",
       "}\n",
       "</script>"
      ],
      "text/plain": [
       "PreparedData(topic_coordinates=              x         y  topics  cluster       Freq\n",
       "topic                                                \n",
       "1     -0.307532 -0.009003       1        1  47.792778\n",
       "2      0.162758 -0.226427       2        1  29.343572\n",
       "0      0.144774  0.235430       3        1  22.863650, topic_info=        Term          Freq         Total Category  logprob  loglift\n",
       "411      sad  20535.000000  20535.000000  Default  30.0000  30.0000\n",
       "59        be   5072.000000   5072.000000  Default  29.0000  29.0000\n",
       "126   people   2049.000000   2049.000000  Default  28.0000  28.0000\n",
       "203      say   1555.000000   1555.000000  Default  27.0000  27.0000\n",
       "358   stress   1655.000000   1655.000000  Default  26.0000  26.0000\n",
       "...      ...           ...           ...      ...      ...      ...\n",
       "678   family    420.058730    476.413359   Topic3  -4.9313   1.3497\n",
       "1110   leave    524.942995    665.871812   Topic3  -4.7084   1.2378\n",
       "571     love    621.915525    962.030979   Topic3  -4.5389   1.0394\n",
       "173        s    815.734606   1877.597412   Topic3  -4.2676   0.6420\n",
       "2352    news    308.128378    339.580279   Topic3  -5.2412   1.3784\n",
       "\n",
       "[146 rows x 6 columns], token_table=      Topic      Freq      Term\n",
       "term                           \n",
       "159       2  0.001679  actually\n",
       "159       3  0.998744  actually\n",
       "580       1  0.999061      also\n",
       "665       1  0.957435    always\n",
       "665       2  0.034839    always\n",
       "...     ...       ...       ...\n",
       "133       2  0.002520      work\n",
       "133       3  0.861961      work\n",
       "330       2  0.998108     world\n",
       "118       3  0.998739     would\n",
       "53        1  0.998731      year\n",
       "\n",
       "[181 rows x 3 columns], R=30, lambda_step=0.01, plot_opts={'xlab': 'PC1', 'ylab': 'PC2'}, topic_order=[2, 3, 1])"
      ]
     },
     "execution_count": 53,
     "metadata": {},
     "output_type": "execute_result"
    }
   ],
   "source": [
    "# Visualize the topics\n",
    "import pyLDAvis.gensim\n",
    "pyLDAvis.enable_notebook()\n",
    "vis = pyLDAvis.gensim.prepare(lda_model, corpus, id2word)\n",
    "vis"
   ]
  },
  {
   "cell_type": "code",
   "execution_count": null,
   "id": "f9165abf",
   "metadata": {},
   "outputs": [],
   "source": []
  }
 ],
 "metadata": {
  "kernelspec": {
   "display_name": "Python 3",
   "language": "python",
   "name": "python3"
  },
  "language_info": {
   "codemirror_mode": {
    "name": "ipython",
    "version": 3
   },
   "file_extension": ".py",
   "mimetype": "text/x-python",
   "name": "python",
   "nbconvert_exporter": "python",
   "pygments_lexer": "ipython3",
   "version": "3.8.8"
  }
 },
 "nbformat": 4,
 "nbformat_minor": 5
}
