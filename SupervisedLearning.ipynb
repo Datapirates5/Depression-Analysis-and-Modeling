{
 "cells": [
  {
   "cell_type": "markdown",
   "id": "573a1bd6",
   "metadata": {},
   "source": [
    "# Supervised Learning"
   ]
  },
  {
   "cell_type": "code",
   "execution_count": 1,
   "id": "4f0f4305",
   "metadata": {},
   "outputs": [
    {
     "data": {
      "text/html": [
       "<div>\n",
       "<style scoped>\n",
       "    .dataframe tbody tr th:only-of-type {\n",
       "        vertical-align: middle;\n",
       "    }\n",
       "\n",
       "    .dataframe tbody tr th {\n",
       "        vertical-align: top;\n",
       "    }\n",
       "\n",
       "    .dataframe thead th {\n",
       "        text-align: right;\n",
       "    }\n",
       "</style>\n",
       "<table border=\"1\" class=\"dataframe\">\n",
       "  <thead>\n",
       "    <tr style=\"text-align: right;\">\n",
       "      <th></th>\n",
       "      <th>Unnamed: 0</th>\n",
       "      <th>Unnamed: 0.1</th>\n",
       "      <th>created_at</th>\n",
       "      <th>text</th>\n",
       "      <th>source</th>\n",
       "      <th>name</th>\n",
       "      <th>username</th>\n",
       "      <th>location</th>\n",
       "      <th>description</th>\n",
       "      <th>location2</th>\n",
       "      <th>coordinates</th>\n",
       "      <th>state</th>\n",
       "      <th>country</th>\n",
       "      <th>text_clean</th>\n",
       "      <th>sentiment</th>\n",
       "      <th>sentiment_1</th>\n",
       "    </tr>\n",
       "  </thead>\n",
       "  <tbody>\n",
       "    <tr>\n",
       "      <th>0</th>\n",
       "      <td>0</td>\n",
       "      <td>8</td>\n",
       "      <td>2022-04-07 23:59:23+00:00</td>\n",
       "      <td>Sigh and wonder how the decimal on my \"concurr...</td>\n",
       "      <td>TweetDeck</td>\n",
       "      <td>Fusionx</td>\n",
       "      <td>rofldrg</td>\n",
       "      <td>Seattle, WA</td>\n",
       "      <td>andrew copeland content podcast producer https...</td>\n",
       "      <td>Seattle, King County, Washington, United States</td>\n",
       "      <td>(47.6038321, -122.3300624, 0.0)</td>\n",
       "      <td>Seattle</td>\n",
       "      <td>United States</td>\n",
       "      <td>sigh and wonder how the decimal on my concurre...</td>\n",
       "      <td>neg</td>\n",
       "      <td>0</td>\n",
       "    </tr>\n",
       "    <tr>\n",
       "      <th>1</th>\n",
       "      <td>1</td>\n",
       "      <td>16</td>\n",
       "      <td>2022-04-07 23:58:50+00:00</td>\n",
       "      <td>🍔: Well, guess I should let y'all know I've be...</td>\n",
       "      <td>Twitter for Android</td>\n",
       "      <td>Aaron Schneider</td>\n",
       "      <td>aschneider_96</td>\n",
       "      <td>Kansas City, MO</td>\n",
       "      <td>civil engineer university nebraska alumni</td>\n",
       "      <td>Kansas City, Jackson County, Missouri, United ...</td>\n",
       "      <td>(39.100105, -94.5781416, 0.0)</td>\n",
       "      <td>Kansas City</td>\n",
       "      <td>United States</td>\n",
       "      <td>: well guess i should let y'all know i've been...</td>\n",
       "      <td>neg</td>\n",
       "      <td>0</td>\n",
       "    </tr>\n",
       "    <tr>\n",
       "      <th>2</th>\n",
       "      <td>2</td>\n",
       "      <td>19</td>\n",
       "      <td>2022-04-07 23:58:11+00:00</td>\n",
       "      <td>@SEGAbits McDonald's now with the depression meal</td>\n",
       "      <td>Twitter Web App</td>\n",
       "      <td>Dr. Ewa J. Antczak</td>\n",
       "      <td>Core_IdealMe</td>\n",
       "      <td>Mississauga, Ontario</td>\n",
       "      <td>psychologist founder idealme enrichment founda...</td>\n",
       "      <td>Mississauga, Peel Region, Golden Horseshoe, On...</td>\n",
       "      <td>(43.5896231, -79.6443879, 0.0)</td>\n",
       "      <td>Mississauga</td>\n",
       "      <td>Canada</td>\n",
       "      <td>segabits mcdonald's now with the depression meal</td>\n",
       "      <td>neg</td>\n",
       "      <td>0</td>\n",
       "    </tr>\n",
       "    <tr>\n",
       "      <th>3</th>\n",
       "      <td>3</td>\n",
       "      <td>21</td>\n",
       "      <td>2022-04-07 23:58:03+00:00</td>\n",
       "      <td>@Amer1can_Barbie There is a huge difference be...</td>\n",
       "      <td>Twitter for iPhone</td>\n",
       "      <td>Andrew, Cymro, 🏴󠁧󠁢󠁷󠁬󠁳󠁿🇪🇺🇺🇦🇵🇸, #NHS💙</td>\n",
       "      <td>_Annibyniaeth</td>\n",
       "      <td>Caerphilly, Wales</td>\n",
       "      <td>dm invite covid x husband father retired life ...</td>\n",
       "      <td>Cymru / Wales, United Kingdom</td>\n",
       "      <td>(52.2928116, -3.73893, 0.0)</td>\n",
       "      <td>Cymru / Wales</td>\n",
       "      <td>United Kingdom</td>\n",
       "      <td>amercanbarbie there is a huge difference betwe...</td>\n",
       "      <td>neg</td>\n",
       "      <td>0</td>\n",
       "    </tr>\n",
       "    <tr>\n",
       "      <th>4</th>\n",
       "      <td>4</td>\n",
       "      <td>34</td>\n",
       "      <td>2022-04-07 23:56:59+00:00</td>\n",
       "      <td>depression tucks me in at 7pm sharp every night</td>\n",
       "      <td>Twitter for iPhone</td>\n",
       "      <td>Bubbles</td>\n",
       "      <td>BigBankBubbles_</td>\n",
       "      <td>Atlanta, GA</td>\n",
       "      <td>go beach bring back seashell longliveni</td>\n",
       "      <td>Atlanta, Fulton County, Georgia, United States</td>\n",
       "      <td>(33.7489924, -84.3902644, 0.0)</td>\n",
       "      <td>Atlanta</td>\n",
       "      <td>United States</td>\n",
       "      <td>depression tucks me in at pm sharp every night</td>\n",
       "      <td>neg</td>\n",
       "      <td>0</td>\n",
       "    </tr>\n",
       "  </tbody>\n",
       "</table>\n",
       "</div>"
      ],
      "text/plain": [
       "   Unnamed: 0  Unnamed: 0.1                 created_at  \\\n",
       "0           0             8  2022-04-07 23:59:23+00:00   \n",
       "1           1            16  2022-04-07 23:58:50+00:00   \n",
       "2           2            19  2022-04-07 23:58:11+00:00   \n",
       "3           3            21  2022-04-07 23:58:03+00:00   \n",
       "4           4            34  2022-04-07 23:56:59+00:00   \n",
       "\n",
       "                                                text               source  \\\n",
       "0  Sigh and wonder how the decimal on my \"concurr...            TweetDeck   \n",
       "1  🍔: Well, guess I should let y'all know I've be...  Twitter for Android   \n",
       "2  @SEGAbits McDonald's now with the depression meal      Twitter Web App   \n",
       "3  @Amer1can_Barbie There is a huge difference be...   Twitter for iPhone   \n",
       "4    depression tucks me in at 7pm sharp every night   Twitter for iPhone   \n",
       "\n",
       "                                  name         username              location  \\\n",
       "0                              Fusionx          rofldrg           Seattle, WA   \n",
       "1                      Aaron Schneider    aschneider_96       Kansas City, MO   \n",
       "2                   Dr. Ewa J. Antczak     Core_IdealMe  Mississauga, Ontario   \n",
       "3  Andrew, Cymro, 🏴󠁧󠁢󠁷󠁬󠁳󠁿🇪🇺🇺🇦🇵🇸, #NHS💙    _Annibyniaeth     Caerphilly, Wales   \n",
       "4                              Bubbles  BigBankBubbles_           Atlanta, GA   \n",
       "\n",
       "                                         description  \\\n",
       "0  andrew copeland content podcast producer https...   \n",
       "1          civil engineer university nebraska alumni   \n",
       "2  psychologist founder idealme enrichment founda...   \n",
       "3  dm invite covid x husband father retired life ...   \n",
       "4            go beach bring back seashell longliveni   \n",
       "\n",
       "                                           location2  \\\n",
       "0    Seattle, King County, Washington, United States   \n",
       "1  Kansas City, Jackson County, Missouri, United ...   \n",
       "2  Mississauga, Peel Region, Golden Horseshoe, On...   \n",
       "3                      Cymru / Wales, United Kingdom   \n",
       "4     Atlanta, Fulton County, Georgia, United States   \n",
       "\n",
       "                       coordinates          state          country  \\\n",
       "0  (47.6038321, -122.3300624, 0.0)        Seattle    United States   \n",
       "1    (39.100105, -94.5781416, 0.0)    Kansas City    United States   \n",
       "2   (43.5896231, -79.6443879, 0.0)    Mississauga           Canada   \n",
       "3      (52.2928116, -3.73893, 0.0)  Cymru / Wales   United Kingdom   \n",
       "4   (33.7489924, -84.3902644, 0.0)        Atlanta    United States   \n",
       "\n",
       "                                          text_clean sentiment  sentiment_1  \n",
       "0  sigh and wonder how the decimal on my concurre...       neg            0  \n",
       "1  : well guess i should let y'all know i've been...       neg            0  \n",
       "2   segabits mcdonald's now with the depression meal       neg            0  \n",
       "3  amercanbarbie there is a huge difference betwe...       neg            0  \n",
       "4     depression tucks me in at pm sharp every night       neg            0  "
      ]
     },
     "execution_count": 1,
     "metadata": {},
     "output_type": "execute_result"
    }
   ],
   "source": [
    "# examine the first 5 rows of X (including the feature names)\n",
    "import pandas as pd\n",
    "# Splitting data into training/testing\n",
    "from sklearn.model_selection import train_test_split\n",
    "df =  pd.read_csv(\"df_data_Global_final.csv\")\n",
    "df.head()"
   ]
  },
  {
   "cell_type": "markdown",
   "id": "347dd0b7",
   "metadata": {},
   "source": [
    "### Train Test Split\n",
    "Training set is 75% and testing set is 25%."
   ]
  },
  {
   "cell_type": "code",
   "execution_count": 2,
   "id": "6b1778a8",
   "metadata": {},
   "outputs": [],
   "source": [
    "# 75% is for training and 25% is for testing\n",
    "X_train, X_test, y_train, y_test = train_test_split(df['text_clean'], df['sentiment_1'], \n",
    "                                                    test_size = 0.25,\n",
    "                                                    random_state=123)"
   ]
  },
  {
   "cell_type": "code",
   "execution_count": 3,
   "id": "5808e365",
   "metadata": {},
   "outputs": [
    {
     "name": "stdout",
     "output_type": "stream",
     "text": [
      "Training data shape X: (18247,)\n",
      "Training data shape Y: (18247,)\n",
      "Test data shape X: (6083,)\n",
      "Test data shape Y: (6083,)\n"
     ]
    }
   ],
   "source": [
    "# train dataset\n",
    "print(\"Training data shape X:\",X_train.shape)\n",
    "print(\"Training data shape Y:\",y_train.shape)\n",
    "# test dataset\n",
    "print(\"Test data shape X:\",X_test.shape)\n",
    "print(\"Test data shape Y:\",y_test.shape)"
   ]
  },
  {
   "cell_type": "markdown",
   "id": "53cb0806",
   "metadata": {},
   "source": [
    "### Create TF-IDF MODEL\n",
    "TF-IDF stands for Term Frequency-Inverse Document Frequency.Instead of giving more weight to words that occur more frequently, it gives a higher weight to words that occur less frequently across entire dataset.\n",
    "1. Instatiate the vectorization \n",
    "   - Set max_features to 2000, which means we want to use 2000 most occuring      words as features for training our classifier.\n",
    "   - min_df set to 5, corresponds to the minimum number of documents that \n",
    "     should contain this feature. We only include those words that occur in at \n",
    "     least 5 documents.\n",
    "   - max_df set to 0.7, which means that we should only include those words   \n",
    "     that occur in a maximum of 70% of all documents.\n",
    "   - remove english stopword, they do not contain any useful information.\n",
    "   - set words into lowercase\n",
    "   - ngram_range is set from 1 to 2, which means include bigram and ngram as \n",
    "     features.\n",
    "2. Create document term matrix\n",
    "   - Describes the frequency of words that occurs in a collection of documents."
   ]
  },
  {
   "cell_type": "code",
   "execution_count": 4,
   "id": "1ad35d33",
   "metadata": {},
   "outputs": [],
   "source": [
    "#Extracting features from text files. \n",
    "from sklearn.feature_extraction.text import CountVectorizer,TfidfVectorizer\n",
    "\n",
    "# instantiate the vectorizer.\n",
    "num_features = 3000\n",
    "vect = TfidfVectorizer(max_features=num_features,ngram_range=(1, 2),stop_words='english', min_df=5, max_df=0.70, lowercase=True)"
   ]
  },
  {
   "cell_type": "code",
   "execution_count": 5,
   "id": "ce8f134d",
   "metadata": {},
   "outputs": [],
   "source": [
    "# fit on training data and transform the training data to vector (document-term matrix)\n",
    "X_train_dtm = vect.fit_transform(X_train)"
   ]
  },
  {
   "cell_type": "code",
   "execution_count": 6,
   "id": "8f000f1c",
   "metadata": {},
   "outputs": [
    {
     "data": {
      "text/plain": [
       "<18247x3000 sparse matrix of type '<class 'numpy.float64'>'\n",
       "\twith 171162 stored elements in Compressed Sparse Row format>"
      ]
     },
     "execution_count": 6,
     "metadata": {},
     "output_type": "execute_result"
    }
   ],
   "source": [
    "#examine the document-term matrix\n",
    "X_train_dtm"
   ]
  },
  {
   "cell_type": "code",
   "execution_count": 7,
   "id": "0ee88e88",
   "metadata": {},
   "outputs": [],
   "source": [
    "#transform testing data (using fitted vocabulary)  into a document-term matrix, name it as X_test_dsm\n",
    "X_test_dtm = vect.transform(X_test)"
   ]
  },
  {
   "cell_type": "code",
   "execution_count": 8,
   "id": "255d79e4",
   "metadata": {},
   "outputs": [
    {
     "data": {
      "text/plain": [
       "<6083x3000 sparse matrix of type '<class 'numpy.float64'>'\n",
       "\twith 56114 stored elements in Compressed Sparse Row format>"
      ]
     },
     "execution_count": 8,
     "metadata": {},
     "output_type": "execute_result"
    }
   ],
   "source": [
    "#examine the document-term matrix\n",
    "X_test_dtm"
   ]
  },
  {
   "cell_type": "markdown",
   "id": "52f737f6",
   "metadata": {},
   "source": [
    "### Logistics Regression\n",
    "\n",
    "Max_iter= maximum number of iterations taken for the solver to converge."
   ]
  },
  {
   "cell_type": "code",
   "execution_count": 9,
   "id": "04b58404",
   "metadata": {},
   "outputs": [],
   "source": [
    "from sklearn.linear_model import LogisticRegression\n",
    "from sklearn.metrics import accuracy_score, precision_score, recall_score, f1_score\n",
    "#instantiate a logistic regression model\n",
    "logreg = LogisticRegression(max_iter=1000, random_state=0)"
   ]
  },
  {
   "cell_type": "code",
   "execution_count": 10,
   "id": "cc989b97",
   "metadata": {},
   "outputs": [
    {
     "name": "stdout",
     "output_type": "stream",
     "text": [
      "Wall time: 231 ms\n"
     ]
    },
    {
     "data": {
      "text/plain": [
       "LogisticRegression(max_iter=1000, random_state=0)"
      ]
     },
     "execution_count": 10,
     "metadata": {},
     "output_type": "execute_result"
    }
   ],
   "source": [
    "%time logreg.fit(X_train_dtm, y_train)"
   ]
  },
  {
   "cell_type": "code",
   "execution_count": 11,
   "id": "8084c25f",
   "metadata": {},
   "outputs": [
    {
     "name": "stdout",
     "output_type": "stream",
     "text": [
      "Accuracy of Logistic Regression model is 0.7596580634555318\n",
      "Precision of Logistic Regression model is 0.7416918429003021\n",
      "Recall of Logistic Regression model is 0.467174119885823\n",
      "F1 Score of Logistic Regression model is 0.5732632807939287\n"
     ]
    }
   ],
   "source": [
    "# make class predictions for X_test_dtm\n",
    "y_pred_class = logreg.predict(X_test_dtm)\n",
    "\n",
    "# calculate accuracy\n",
    "print(\"Accuracy of Logistic Regression model is\", accuracy_score(y_test, y_pred_class))\n",
    "print(\"Precision of Logistic Regression model is\", precision_score(y_test, y_pred_class))\n",
    "print(\"Recall of Logistic Regression model is\", recall_score(y_test, y_pred_class))\n",
    "print(\"F1 Score of Logistic Regression model is\", f1_score(y_test, y_pred_class))"
   ]
  },
  {
   "cell_type": "markdown",
   "id": "0df65326",
   "metadata": {},
   "source": [
    "### Support Vector Machine\n",
    "- Kernel = Similarity function for pattern analysis\n",
    "- C = Penalty parameter and helps in finding the bounderies smoothly and appropriately."
   ]
  },
  {
   "cell_type": "code",
   "execution_count": 12,
   "id": "55b9b648",
   "metadata": {},
   "outputs": [
    {
     "name": "stdout",
     "output_type": "stream",
     "text": [
      "Wall time: 27.2 s\n"
     ]
    },
    {
     "data": {
      "text/plain": [
       "SVC(C=1, kernel='linear', random_state=0)"
      ]
     },
     "execution_count": 12,
     "metadata": {},
     "output_type": "execute_result"
    }
   ],
   "source": [
    "from sklearn.svm import SVC\n",
    "clf = SVC(kernel='linear', C=1, random_state=0)\n",
    "\n",
    "# train the model using X_train_dtm and report training time\n",
    "%time clf.fit(X_train_dtm, y_train)\n"
   ]
  },
  {
   "cell_type": "code",
   "execution_count": 13,
   "id": "171a6b00",
   "metadata": {},
   "outputs": [
    {
     "name": "stdout",
     "output_type": "stream",
     "text": [
      "Accuracy of Support Vector Machine model is 0.7593292783166201\n",
      "Precision of Support Vector Machine model is 0.7256011315417256\n",
      "Recall of Support Vector Machine model is 0.48810656517602286\n",
      "F1 Score of Support Vector Machine model is 0.5836177474402731\n"
     ]
    }
   ],
   "source": [
    "# make class predictions for X_test_dtm\n",
    "y_pred_class = clf.predict(X_test_dtm)\n",
    "# calculate accuracy\n",
    "print(\"Accuracy of Support Vector Machine model is\", accuracy_score(y_test, y_pred_class))\n",
    "print(\"Precision of Support Vector Machine model is\", precision_score(y_test, y_pred_class))\n",
    "print(\"Recall of Support Vector Machine model is\", recall_score(y_test, y_pred_class))\n",
    "print(\"F1 Score of Support Vector Machine model is\", f1_score(y_test, y_pred_class))"
   ]
  },
  {
   "cell_type": "code",
   "execution_count": 14,
   "id": "79228afa",
   "metadata": {},
   "outputs": [
    {
     "name": "stdout",
     "output_type": "stream",
     "text": [
      "Wall time: 1min 24s\n"
     ]
    },
    {
     "data": {
      "text/plain": [
       "SVC(random_state=0)"
      ]
     },
     "execution_count": 14,
     "metadata": {},
     "output_type": "execute_result"
    }
   ],
   "source": [
    "clf2 = SVC(kernel='rbf', random_state=0)\n",
    "# train the model using X_train_dtm and report training time\n",
    "%time clf2.fit(X_train_dtm, y_train)"
   ]
  },
  {
   "cell_type": "code",
   "execution_count": 15,
   "id": "11e21070",
   "metadata": {},
   "outputs": [
    {
     "name": "stdout",
     "output_type": "stream",
     "text": [
      "Accuracy of Support Vector Machine model is 0.791221436791057\n",
      "Precision of Support Vector Machine model is 0.7913165266106442\n",
      "Recall of Support Vector Machine model is 0.5375832540437678\n",
      "F1 Score of Support Vector Machine model is 0.6402266288951841\n"
     ]
    }
   ],
   "source": [
    "# make class predictions for X_test_dtm\n",
    "y_pred_class = clf2.predict(X_test_dtm)\n",
    "# calculate accuracy\n",
    "print(\"Accuracy of Support Vector Machine model is\", accuracy_score(y_test, y_pred_class))\n",
    "print(\"Precision of Support Vector Machine model is\", precision_score(y_test, y_pred_class))\n",
    "print(\"Recall of Support Vector Machine model is\", recall_score(y_test, y_pred_class))\n",
    "print(\"F1 Score of Support Vector Machine model is\", f1_score(y_test, y_pred_class))"
   ]
  },
  {
   "cell_type": "markdown",
   "id": "c7d23501",
   "metadata": {},
   "source": [
    "### Naive Bayes\n",
    "- alpha represents the additive smoothing parameter."
   ]
  },
  {
   "cell_type": "code",
   "execution_count": 35,
   "id": "b513eb4c",
   "metadata": {},
   "outputs": [
    {
     "name": "stdout",
     "output_type": "stream",
     "text": [
      "Wall time: 25.1 ms\n"
     ]
    },
    {
     "data": {
      "text/plain": [
       "MultinomialNB()"
      ]
     },
     "execution_count": 35,
     "metadata": {},
     "output_type": "execute_result"
    }
   ],
   "source": [
    "from sklearn.naive_bayes import MultinomialNB\n",
    "NB = MultinomialNB()\n",
    "%time NB.fit(X_train_dtm, y_train)"
   ]
  },
  {
   "cell_type": "code",
   "execution_count": 36,
   "id": "007aaf65",
   "metadata": {},
   "outputs": [
    {
     "name": "stdout",
     "output_type": "stream",
     "text": [
      "Accuracy of Naiye Bayes model is 0.7432188065099458\n",
      "Precision of Naive Bayes model is 0.7721774193548387\n",
      "Recall of Naive Bayes model is 0.3644148430066603\n",
      "F1 Score of Naive Bayes model is 0.4951519069166128\n"
     ]
    }
   ],
   "source": [
    "# make class predictions for X_test_dtm\n",
    "y_pred_class = NB.predict(X_test_dtm)\n",
    "# calculate accuracy\n",
    "print(\"Accuracy of Naiye Bayes model is\",accuracy_score(y_test, y_pred_class))\n",
    "print(\"Precision of Naive Bayes model is\", precision_score(y_test, y_pred_class))\n",
    "print(\"Recall of Naive Bayes model is\", recall_score(y_test, y_pred_class))\n",
    "print(\"F1 Score of Naive Bayes model is\", f1_score(y_test, y_pred_class))"
   ]
  },
  {
   "cell_type": "markdown",
   "id": "0c7dde1f",
   "metadata": {},
   "source": [
    "### Decision Tree\n",
    "- default parameters. For example, criterion is set as 'gini'. "
   ]
  },
  {
   "cell_type": "code",
   "execution_count": 33,
   "id": "2f2c5214",
   "metadata": {},
   "outputs": [
    {
     "name": "stdout",
     "output_type": "stream",
     "text": [
      "Wall time: 4 s\n"
     ]
    },
    {
     "data": {
      "text/plain": [
       "DecisionTreeClassifier()"
      ]
     },
     "execution_count": 33,
     "metadata": {},
     "output_type": "execute_result"
    }
   ],
   "source": [
    "from sklearn.tree import DecisionTreeClassifier\n",
    "dt = DecisionTreeClassifier()\n",
    "%time dt.fit(X_train_dtm, y_train)"
   ]
  },
  {
   "cell_type": "code",
   "execution_count": 34,
   "id": "623881a9",
   "metadata": {},
   "outputs": [
    {
     "name": "stdout",
     "output_type": "stream",
     "text": [
      "Accuracy of Decision tree model is 0.7601512411638994\n",
      "Precision of Decision tree model is 0.6562955760816723\n",
      "Recall of Decision tree model is 0.6422454804947669\n",
      "F1 Score of Decision tree model is 0.6491945179129598\n"
     ]
    }
   ],
   "source": [
    "# make class predictions for X_test_dtm\n",
    "y_pred_class = dt.predict(X_test_dtm)\n",
    "# calculate accuracy\n",
    "print(\"Accuracy of Decision tree model is\",accuracy_score(y_test, y_pred_class))\n",
    "print(\"Precision of Decision tree model is\", precision_score(y_test, y_pred_class))\n",
    "print(\"Recall of Decision tree model is\", recall_score(y_test, y_pred_class))\n",
    "print(\"F1 Score of Decision tree model is\", f1_score(y_test, y_pred_class))"
   ]
  },
  {
   "cell_type": "markdown",
   "id": "e9a295ab",
   "metadata": {},
   "source": [
    "### Random Forest\n",
    "Random Forest is an ensemble model using bagging as the ensemble method and decision tree as individual model."
   ]
  },
  {
   "cell_type": "code",
   "execution_count": 127,
   "id": "2ef2ef60",
   "metadata": {},
   "outputs": [
    {
     "name": "stdout",
     "output_type": "stream",
     "text": [
      "Wall time: 17.6 s\n"
     ]
    },
    {
     "data": {
      "text/plain": [
       "RandomForestClassifier(random_state=0)"
      ]
     },
     "execution_count": 127,
     "metadata": {},
     "output_type": "execute_result"
    }
   ],
   "source": [
    "from sklearn.ensemble import RandomForestClassifier\n",
    "classifier = RandomForestClassifier(n_estimators=100, max_features=\"auto\", random_state=0)\n",
    "\n",
    "# train the model using X_train_dtm and report training time\n",
    "%time classifier.fit(X_train_dtm, y_train) "
   ]
  },
  {
   "cell_type": "code",
   "execution_count": 128,
   "id": "62fafa00",
   "metadata": {},
   "outputs": [
    {
     "name": "stdout",
     "output_type": "stream",
     "text": [
      "Accuracy of Random Forest model is 0.8068387308893638\n",
      "Precision of Random Forest model is 0.7927984838913456\n",
      "Recall of Random Forest model is 0.5970504281636536\n",
      "F1 Score of Random Forest model is 0.6811397557666213\n"
     ]
    },
    {
     "data": {
      "text/plain": [
       "0.8068387308893638"
      ]
     },
     "execution_count": 128,
     "metadata": {},
     "output_type": "execute_result"
    }
   ],
   "source": [
    "# make class predictions for X_test_dtm\n",
    "y_pred_class = classifier.predict(X_test_dtm)\n",
    "# calculate accuracy\n",
    "print(\"Accuracy of Random Forest model is\",accuracy_score(y_test, y_pred_class))\n",
    "print(\"Precision of Random Forest model is\", precision_score(y_test, y_pred_class))\n",
    "print(\"Recall of Random Forest model is\", recall_score(y_test, y_pred_class))\n",
    "print(\"F1 Score of Random Forest model is\", f1_score(y_test, y_pred_class))"
   ]
  },
  {
   "cell_type": "markdown",
   "id": "a642385f",
   "metadata": {},
   "source": [
    "### AdaBoost model\n",
    "Ensemble boosting classifier. Combines multiple classifiers to increase the accuracy of classifiers. The core principle of AdaBoost is to fit a sequence of weak learners on repeatly modified version of data. Learning from the previous mistake."
   ]
  },
  {
   "cell_type": "code",
   "execution_count": 191,
   "id": "f7f8a258",
   "metadata": {},
   "outputs": [
    {
     "name": "stdout",
     "output_type": "stream",
     "text": [
      "Wall time: 2min 57s\n"
     ]
    },
    {
     "data": {
      "text/plain": [
       "AdaBoostClassifier(base_estimator=RandomForestClassifier(random_state=0),\n",
       "                   n_estimators=5, random_state=0)"
      ]
     },
     "execution_count": 191,
     "metadata": {},
     "output_type": "execute_result"
    }
   ],
   "source": [
    "from sklearn.ensemble import AdaBoostClassifier\n",
    "#n_estimators is the base classifier.\n",
    "Adc =  AdaBoostClassifier(n_estimators=5, base_estimator=classifier, random_state=0)\n",
    "\n",
    "# train the model using X_train_dtm and report training time\n",
    "%time Adc.fit(X_train_dtm, y_train) "
   ]
  },
  {
   "cell_type": "code",
   "execution_count": 192,
   "id": "e74bd9bf",
   "metadata": {},
   "outputs": [
    {
     "name": "stdout",
     "output_type": "stream",
     "text": [
      "Accuracy of AdaBoost is 0.8097977971395693\n",
      "Precision of AdaBoost is 0.7932960893854749\n",
      "Recall of AdaBoost is 0.6079923882017126\n",
      "F1 Score of AdaBoost is 0.6883921357392943\n"
     ]
    },
    {
     "data": {
      "text/plain": [
       "0.8097977971395693"
      ]
     },
     "execution_count": 192,
     "metadata": {},
     "output_type": "execute_result"
    }
   ],
   "source": [
    "# make class predictions for X_test_dtm\n",
    "y_pred_class = Adc.predict(X_test_dtm)\n",
    "# calculate accuracy\n",
    "print(\"Accuracy of AdaBoost is\",accuracy_score(y_test, y_pred_class))\n",
    "print(\"Precision of AdaBoost is\", precision_score(y_test, y_pred_class))\n",
    "print(\"Recall of AdaBoost is\", recall_score(y_test, y_pred_class))\n",
    "print(\"F1 Score of AdaBoost is\", f1_score(y_test, y_pred_class))\n",
    "accuracy_score(y_test, y_pred_class)"
   ]
  },
  {
   "cell_type": "markdown",
   "id": "08518628",
   "metadata": {},
   "source": [
    "### Neural Network\n",
    "- Hidden Layer size: Hidden_layer_sizes-(100,50,20) means there are 3 hidden layers and the number of neurons for layer one is 100, for layer 2 is 50 and for layer 3 is 20.\n",
    "- activation: Activation function for hidden layer. Relu is the rectified linear unit function, returns f(x) = max(0,x)\n",
    "- max_iter: maximum number of iterations for solver to converge, set as 500."
   ]
  },
  {
   "cell_type": "code",
   "execution_count": 142,
   "id": "cf1848bd",
   "metadata": {},
   "outputs": [
    {
     "name": "stdout",
     "output_type": "stream",
     "text": [
      "Wall time: 2min 57s\n"
     ]
    },
    {
     "data": {
      "text/plain": [
       "MLPClassifier(hidden_layer_sizes=(100, 50, 20), max_iter=500, random_state=0)"
      ]
     },
     "execution_count": 142,
     "metadata": {},
     "output_type": "execute_result"
    }
   ],
   "source": [
    "from sklearn.neural_network import MLPClassifier\n",
    "# initialize model\n",
    "mlp = MLPClassifier(hidden_layer_sizes=(100, 50, 20), activation='relu', max_iter=500, random_state=0)\n",
    "\n",
    "# train the model using X_train_dtm and report training time\n",
    "%time mlp.fit(X_train_dtm, y_train)"
   ]
  },
  {
   "cell_type": "code",
   "execution_count": 141,
   "id": "f25540f5",
   "metadata": {},
   "outputs": [
    {
     "name": "stdout",
     "output_type": "stream",
     "text": [
      "Accuracy of Neural Network is 0.7882623705408516\n",
      "Precision of Neural Network is 0.7010869565217391\n",
      "Recall of Neural Network is 0.6750713606089439\n",
      "F1 Score of Neural Network is 0.6878332525448376\n"
     ]
    },
    {
     "data": {
      "text/plain": [
       "0.7882623705408516"
      ]
     },
     "execution_count": 141,
     "metadata": {},
     "output_type": "execute_result"
    }
   ],
   "source": [
    "# make class predictions for X_test_dtm\n",
    "y_pred_class = mlp.predict(X_test_dtm)\n",
    "# calculate accuracy\n",
    "print(\"Accuracy of Neural Network is\",accuracy_score(y_test, y_pred_class))\n",
    "print(\"Precision of Neural Network is\", precision_score(y_test, y_pred_class))\n",
    "print(\"Recall of Neural Network is\", recall_score(y_test, y_pred_class))\n",
    "print(\"F1 Score of Neural Network is\", f1_score(y_test, y_pred_class))\n",
    "accuracy_score(y_test, y_pred_class)"
   ]
  },
  {
   "cell_type": "markdown",
   "id": "903a97f1",
   "metadata": {},
   "source": [
    "### Conclusion\n"
   ]
  },
  {
   "cell_type": "code",
   "execution_count": 48,
   "id": "d5b30eaa",
   "metadata": {},
   "outputs": [
    {
     "data": {
      "text/html": [
       "<div>\n",
       "<style scoped>\n",
       "    .dataframe tbody tr th:only-of-type {\n",
       "        vertical-align: middle;\n",
       "    }\n",
       "\n",
       "    .dataframe tbody tr th {\n",
       "        vertical-align: top;\n",
       "    }\n",
       "\n",
       "    .dataframe thead th {\n",
       "        text-align: right;\n",
       "    }\n",
       "</style>\n",
       "<table border=\"1\" class=\"dataframe\">\n",
       "  <thead>\n",
       "    <tr style=\"text-align: right;\">\n",
       "      <th></th>\n",
       "      <th>Machine Learning Model</th>\n",
       "      <th>TimeInSec</th>\n",
       "      <th>Accuracy</th>\n",
       "      <th>Precision</th>\n",
       "      <th>Recall</th>\n",
       "      <th>F1</th>\n",
       "    </tr>\n",
       "  </thead>\n",
       "  <tbody>\n",
       "    <tr>\n",
       "      <th>0</th>\n",
       "      <td>Logistic Regression</td>\n",
       "      <td>0.181</td>\n",
       "      <td>75.965806</td>\n",
       "      <td>74.169184</td>\n",
       "      <td>46.717412</td>\n",
       "      <td>57.326328</td>\n",
       "    </tr>\n",
       "    <tr>\n",
       "      <th>1</th>\n",
       "      <td>Support Vector Machine</td>\n",
       "      <td>72.000</td>\n",
       "      <td>79.122144</td>\n",
       "      <td>77.217742</td>\n",
       "      <td>48.810657</td>\n",
       "      <td>64.022663</td>\n",
       "    </tr>\n",
       "    <tr>\n",
       "      <th>2</th>\n",
       "      <td>Naive Bayes</td>\n",
       "      <td>0.006</td>\n",
       "      <td>74.321881</td>\n",
       "      <td>77.217742</td>\n",
       "      <td>36.441484</td>\n",
       "      <td>49.515191</td>\n",
       "    </tr>\n",
       "    <tr>\n",
       "      <th>3</th>\n",
       "      <td>Decision Tree</td>\n",
       "      <td>3.880</td>\n",
       "      <td>76.146638</td>\n",
       "      <td>65.629558</td>\n",
       "      <td>64.224548</td>\n",
       "      <td>64.977070</td>\n",
       "    </tr>\n",
       "    <tr>\n",
       "      <th>4</th>\n",
       "      <td>Random Forest</td>\n",
       "      <td>17.600</td>\n",
       "      <td>80.683873</td>\n",
       "      <td>79.279848</td>\n",
       "      <td>59.705043</td>\n",
       "      <td>68.113976</td>\n",
       "    </tr>\n",
       "    <tr>\n",
       "      <th>5</th>\n",
       "      <td>AdaBoostModel</td>\n",
       "      <td>143.000</td>\n",
       "      <td>80.979780</td>\n",
       "      <td>79.329609</td>\n",
       "      <td>60.799239</td>\n",
       "      <td>68.839214</td>\n",
       "    </tr>\n",
       "    <tr>\n",
       "      <th>6</th>\n",
       "      <td>Nueral Network</td>\n",
       "      <td>177.000</td>\n",
       "      <td>78.826237</td>\n",
       "      <td>70.108696</td>\n",
       "      <td>67.507136</td>\n",
       "      <td>68.783325</td>\n",
       "    </tr>\n",
       "  </tbody>\n",
       "</table>\n",
       "</div>"
      ],
      "text/plain": [
       "   Machine Learning Model  TimeInSec   Accuracy  Precision     Recall  \\\n",
       "0     Logistic Regression      0.181  75.965806  74.169184  46.717412   \n",
       "1  Support Vector Machine     72.000  79.122144  77.217742  48.810657   \n",
       "2             Naive Bayes      0.006  74.321881  77.217742  36.441484   \n",
       "3           Decision Tree      3.880  76.146638  65.629558  64.224548   \n",
       "4           Random Forest     17.600  80.683873  79.279848  59.705043   \n",
       "5           AdaBoostModel    143.000  80.979780  79.329609  60.799239   \n",
       "6          Nueral Network    177.000  78.826237  70.108696  67.507136   \n",
       "\n",
       "          F1  \n",
       "0  57.326328  \n",
       "1  64.022663  \n",
       "2  49.515191  \n",
       "3  64.977070  \n",
       "4  68.113976  \n",
       "5  68.839214  \n",
       "6  68.783325  "
      ]
     },
     "execution_count": 48,
     "metadata": {},
     "output_type": "execute_result"
    }
   ],
   "source": [
    "# import pandas as pd\n",
    "import matplotlib.pyplot as plt\n",
    "from datetime import time\n",
    "\n",
    "\n",
    "df = pd.DataFrame({'Machine Learning Model':['Logistic Regression', 'Support Vector Machine', 'Naive Bayes', 'Decision Tree', 'Random Forest', 'AdaBoostModel','Nueral Network'],\n",
    "                   'TimeInSec':[0.181,72,0.006,3.88,17.6,143,177],\n",
    "                   'Accuracy':[(0.7596580634555318*100),(0.791221436791057*100),(0.7432188065099458*100),(0.7614663817195463*100),(0.8068387308893638*100),(0.8097977971395693*100),(0.7882623705408516*100)],\n",
    "                   'Precision':[(0.7416918429003021*100),(0.7721774193548387*100),(0.7721774193548387*100),(0.6562955760816723*100), (0.7927984838913456*100), (0.7932960893854749*100), (0.7010869565217391*100)],\n",
    "                   'Recall':[(0.467174119885823*100), (0.48810656517602286*100), (0.3644148430066603*100), (0.6422454804947669*100),(0.5970504281636536*100),(0.6079923882017126*100),(0.6750713606089439*100) ],\n",
    "                   'F1':[(0.5732632807939287*100),(0.6402266288951841*100),(0.4951519069166128*100), (0.649770697562153*100),(0.6811397557666213*100),(0.6883921357392943*100),(0.6878332525448376*100)]\n",
    "                  })\n",
    "df"
   ]
  },
  {
   "cell_type": "code",
   "execution_count": 39,
   "id": "15e43539",
   "metadata": {},
   "outputs": [
    {
     "data": {
      "text/plain": [
       "Text(0.5, 1.0, 'Accuracy of Machine Learning Classifiers')"
      ]
     },
     "execution_count": 39,
     "metadata": {},
     "output_type": "execute_result"
    },
    {
     "data": {
      "image/png": "[encoded data removed]",
      "text/plain": [
       "<Figure size 1008x936 with 1 Axes>"
      ]
     },
     "metadata": {
      "needs_background": "light"
     },
     "output_type": "display_data"
    }
   ],
   "source": [
    "import seaborn as sns\n",
    "\n",
    "plt.figure(figsize=(14, 13))\n",
    "splot = sns.barplot(x='Machine Learning Model', y='Accuracy', \n",
    "                    data=df, palette='Greens')\n",
    "  \n",
    "for p in splot.patches:\n",
    "    splot.annotate(format(p.get_height()),\n",
    "                   (p.get_x() + p.get_width() / 2., p.get_height()),\n",
    "                   ha='center', va='center',\n",
    "                   xytext=(0, 2),\n",
    "                   textcoords='offset points')\n",
    "      \n",
    "plt.ylabel(\"Accuracy\", size=14)\n",
    "plt.xlabel(\"Machine Learning Classifiers\", size=14)\n",
    "plt.title(\"Accuracy of Machine Learning Classifiers\", size=18)"
   ]
  },
  {
   "cell_type": "code",
   "execution_count": 44,
   "id": "9ffa1a5f",
   "metadata": {},
   "outputs": [
    {
     "data": {
      "text/plain": [
       "Text(0.5, 1.0, 'Precision Score of Machine Learning Classifiers')"
      ]
     },
     "execution_count": 44,
     "metadata": {},
     "output_type": "execute_result"
    },
    {
     "data": {
      "image/png": "[encoded data removed]",
      "text/plain": [
       "<Figure size 1008x936 with 1 Axes>"
      ]
     },
     "metadata": {
      "needs_background": "light"
     },
     "output_type": "display_data"
    }
   ],
   "source": [
    "plt.figure(figsize=(14, 13))\n",
    "splot = sns.barplot(x='Machine Learning Model', y='Precision', \n",
    "                    data=df, palette='Greens')\n",
    "  \n",
    "for p in splot.patches:\n",
    "    splot.annotate(format(p.get_height()),\n",
    "                   (p.get_x() + p.get_width() / 2., p.get_height()),\n",
    "                   ha='center', va='center',\n",
    "                   xytext=(0, 2),\n",
    "                   textcoords='offset points')\n",
    "      \n",
    "plt.ylabel(\"Precision\", size=14)\n",
    "plt.xlabel(\"Machine Learning Classifiers\", size=14)\n",
    "plt.title(\"Precision Score of Machine Learning Classifiers\", size=18)"
   ]
  },
  {
   "cell_type": "code",
   "execution_count": 49,
   "id": "15667048",
   "metadata": {},
   "outputs": [
    {
     "data": {
      "text/plain": [
       "Text(0.5, 1.0, 'Recall Score of Machine Learning Classifiers')"
      ]
     },
     "execution_count": 49,
     "metadata": {},
     "output_type": "execute_result"
    },
    {
     "data": {
      "image/png": "[encoded data removed]",
      "text/plain": [
       "<Figure size 1008x936 with 1 Axes>"
      ]
     },
     "metadata": {
      "needs_background": "light"
     },
     "output_type": "display_data"
    }
   ],
   "source": [
    "plt.figure(figsize=(14, 13))\n",
    "splot = sns.barplot(x='Machine Learning Model', y='Recall', \n",
    "                    data=df, palette='Greens')\n",
    "  \n",
    "for p in splot.patches:\n",
    "    splot.annotate(format(p.get_height()),\n",
    "                   (p.get_x() + p.get_width() / 2., p.get_height()),\n",
    "                   ha='center', va='center',\n",
    "                   xytext=(0, 2),\n",
    "                   textcoords='offset points')\n",
    "      \n",
    "plt.ylabel(\"Recall\", size=14)\n",
    "plt.xlabel(\"Machine Learning Classifiers\", size=14)\n",
    "plt.title(\"Recall Score of Machine Learning Classifiers\", size=18)"
   ]
  },
  {
   "cell_type": "code",
   "execution_count": 237,
   "id": "c52efced",
   "metadata": {},
   "outputs": [
    {
     "data": {
      "text/plain": [
       "Text(0.5, 1.0, 'F1 Score of Machine Learning Classifiers')"
      ]
     },
     "execution_count": 237,
     "metadata": {},
     "output_type": "execute_result"
    },
    {
     "data": {
      "image/png": "[encoded data removed]",
      "text/plain": [
       "<Figure size 1008x936 with 1 Axes>"
      ]
     },
     "metadata": {
      "needs_background": "light"
     },
     "output_type": "display_data"
    }
   ],
   "source": [
    "plt.figure(figsize=(14, 13))\n",
    "splot = sns.barplot(x='Machine Learning Model', y='F1', \n",
    "                    data=df, palette='Greens')\n",
    "  \n",
    "for p in splot.patches:\n",
    "    splot.annotate(format(p.get_height()),\n",
    "                   (p.get_x() + p.get_width() / 2., p.get_height()),\n",
    "                   ha='center', va='center',\n",
    "                   xytext=(0, 2),\n",
    "                   textcoords='offset points')\n",
    "      \n",
    "plt.ylabel(\"F1\", size=14)\n",
    "plt.xlabel(\"Machine Learning Classifiers\", size=14)\n",
    "plt.title(\"F1 Score of Machine Learning Classifiers\", size=18)"
   ]
  },
  {
   "cell_type": "code",
   "execution_count": 238,
   "id": "9e9fc8a1",
   "metadata": {},
   "outputs": [
    {
     "data": {
      "text/plain": [
       "Text(0.5, 1.0, \"'TimeInSec' of Training Machine Learning Classifiers\")"
      ]
     },
     "execution_count": 238,
     "metadata": {},
     "output_type": "execute_result"
    },
    {
     "data": {
      "image/png": "[encoded data removed]",
      "text/plain": [
       "<Figure size 1008x720 with 1 Axes>"
      ]
     },
     "metadata": {
      "needs_background": "light"
     },
     "output_type": "display_data"
    }
   ],
   "source": [
    "plt.figure(figsize=(14, 10))\n",
    "splot = sns.barplot(x='Machine Learning Model', y='TimeInSec', \n",
    "                    data=df, palette='Greens')\n",
    "  \n",
    "for p in splot.patches:\n",
    "    splot.annotate(format(p.get_height()),\n",
    "                   (p.get_x() + p.get_width() / 2., p.get_height()),\n",
    "                   ha='center', va='center',\n",
    "                   xytext=(0, 2),\n",
    "                   textcoords='offset points')\n",
    "      \n",
    "plt.ylabel(\"Time In Sec\", size=14)\n",
    "plt.xlabel(\"Machine Learning Classifiers\", size=14)\n",
    "plt.title(\"'TimeInSec' of Training Machine Learning Classifiers\", size=18)"
   ]
  },
  {
   "cell_type": "markdown",
   "id": "dae6c897",
   "metadata": {},
   "source": [
    "AdaBoostModel has the highest accuracy and highest F1 score, but it takes a longer time to run."
   ]
  }
 ],
 "metadata": {
  "kernelspec": {
   "display_name": "Python 3",
   "language": "python",
   "name": "python3"
  },
  "language_info": {
   "codemirror_mode": {
    "name": "ipython",
    "version": 3
   },
   "file_extension": ".py",
   "mimetype": "text/x-python",
   "name": "python",
   "nbconvert_exporter": "python",
   "pygments_lexer": "ipython3",
   "version": "3.8.8"
  }
 },
 "nbformat": 4,
 "nbformat_minor": 5
}
